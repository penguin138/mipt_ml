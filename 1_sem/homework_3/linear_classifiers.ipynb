{
 "cells": [
  {
   "cell_type": "markdown",
   "metadata": {},
   "source": [
    "## Linear classifiers"
   ]
  },
  {
   "cell_type": "code",
   "execution_count": 1,
   "metadata": {
    "collapsed": false
   },
   "outputs": [],
   "source": [
    "import time\n",
    "import math\n",
    "import pandas as pd\n",
    "import random\n",
    "import numpy as np\n",
    "import matplotlib.pyplot as plt\n",
    "from sklearn.feature_extraction.text import TfidfVectorizer, CountVectorizer, TfidfTransformer\n",
    "from sklearn.metrics import classification_report, log_loss\n",
    "from sklearn.cross_validation import train_test_split\n",
    "from linear_svm import svm_loss_naive, svm_loss_vectorized\n",
    "from gradient_check import grad_check_sparse\n",
    "from linear_classifier import LinearSVM, Softmax\n",
    "from softmax import softmax_loss_naive, softmax_loss_vectorized\n",
    "\n",
    "\n",
    "%matplotlib inline\n",
    "plt.rcParams['figure.figsize'] = (10.0, 8.0) # set default size of plots\n",
    "plt.rcParams['image.interpolation'] = 'nearest'\n",
    "plt.rcParams['image.cmap'] = 'gray'\n",
    "\n",
    "%load_ext autoreload\n",
    "%autoreload 2"
   ]
  },
  {
   "cell_type": "code",
   "execution_count": 38,
   "metadata": {
    "collapsed": true
   },
   "outputs": [],
   "source": [
    "# utility function\n",
    "def output_to_csv(result_matrix, indices, filename):\n",
    "    df = pd.DataFrame(result_matrix)\n",
    "    df.index = indices\n",
    "    df.index.name = 'ID'\n",
    "    df.columns = ['class_0', 'class_1', 'class_2', 'class_3']\n",
    "    df.to_csv(filename)"
   ]
  },
  {
   "cell_type": "markdown",
   "metadata": {},
   "source": [
    "-------\n",
    "#### Знакомство с данными"
   ]
  },
  {
   "cell_type": "code",
   "execution_count": 3,
   "metadata": {
    "collapsed": false
   },
   "outputs": [
    {
     "name": "stdout",
     "output_type": "stream",
     "text": [
      "(352278, 2)\n",
      "                                                  summary  score\n",
      "id                                                              \n",
      "230872                                  Babies love these      3\n",
      "344823                                       Salmon Trout      0\n",
      "211754                                     disappointment      1\n",
      "259421  Doesn't taste like Cinnabon; tastes like Waffl...      2\n",
      "253418  Delicious San Daniele prosciutto and good cust...      3\n",
      "                                  summary\n",
      "id                                       \n",
      "365507                    CHECK THE SUGAR\n",
      "401398                      Great Product\n",
      "45480                   This stuff rocks!\n",
      "396287                   community coffee\n",
      "44193   Not my favorite but good for you!\n"
     ]
    }
   ],
   "source": [
    "data = pd.read_csv('kaggle_data/train.csv', index_col=0, na_values='NaN')\n",
    "test_data = pd.read_csv('kaggle_data/test.csv', index_col=0, na_values='NaN')\n",
    "print(data.shape)\n",
    "print(data.head())\n",
    "print(test_data.head())"
   ]
  },
  {
   "cell_type": "code",
   "execution_count": 4,
   "metadata": {
    "collapsed": false
   },
   "outputs": [
    {
     "name": "stdout",
     "output_type": "stream",
     "text": [
      "Score:\n",
      "  max:3\n",
      "  min:0\n",
      "Docs:\n",
      "  Babies love these\n",
      "  Salmon Trout\n",
      "  disappointment\n",
      "  Doesn't taste like Cinnabon; tastes like Waffle Crisp\n",
      "  Delicious San Daniele prosciutto and good customer service\n",
      "  My Dog Loves Them\n",
      "  My husband's new favorite coffee.\n",
      "  Good Job, Betty Crocker\n",
      "  Good chips, more cheese\n",
      "  Nature's Hallow Sugar Free Jam\n"
     ]
    }
   ],
   "source": [
    "documents = data.summary.values\n",
    "score = data.score.values\n",
    "print(\"Score:\\n  max:{}\\n  min:{}\".format(max(score), min(score)))\n",
    "print(\"Docs:\\n  \" + \"\\n  \".join(documents[:10]))\n",
    "test_docs = test_data.summary.values"
   ]
  },
  {
   "cell_type": "markdown",
   "metadata": {},
   "source": [
    "Как видно, каждый объект представляет собой отзыв о продукте и оценку по шкале от 0 до 3. Выдвинем гипотезу, что слова, используемые в написании отзыва коррелируют с оценкой, которая была поставлена. Поставим задачу - предсказать оценку по тексту отзыва."
   ]
  },
  {
   "cell_type": "markdown",
   "metadata": {},
   "source": [
    "-----\n",
    "###  Извлечение признаков\n",
    "\n",
    "Для решения задачи классификации необходимо преобразовать каждый отзыв (документ) в вектор. Размерность данного вектора будет равна количеству слов используемых в корпусе (все документы). Каждая координата соответствует слову, значение в координает равно количеству раз, слово используется в документе.\n",
    "\n",
    "В итоге получится матрица, в (i,j) ячейке которой написано количество раз, которое j-e слово встречается в i-ом документе. Заметим, что у такой матрицы получаются сильно разреженные строки(с большим количеством нулей).\n",
    "\n",
    "Для учета важности редких, но показательных слов (термов), используется схема взвешивания TF-IDF. Преобразуем матрицу частот в матрицу документов, частоты термов которых взвешенны по TF-IDF.\n",
    "\n",
    "Это преобразование можно делать сразу из набора документов с помощью TfidfVectorizer или сначала посчитать матрицу \n",
    "частот с помощью CountVectorizer, а потом преобразовать ее с помощью TfidfTransformer (как изначально было предложено в задании)."
   ]
  },
  {
   "cell_type": "markdown",
   "metadata": {},
   "source": [
    "Используя TfidfVectorizer:"
   ]
  },
  {
   "cell_type": "code",
   "execution_count": 5,
   "metadata": {
    "collapsed": false
   },
   "outputs": [],
   "source": [
    "tfidf_vectorizer = TfidfVectorizer()\n",
    "tfidf_matrix = tfidf_vectorizer.fit_transform(documents)"
   ]
  },
  {
   "cell_type": "markdown",
   "metadata": {},
   "source": [
    "Используя CountVectorizer + TfidfTransformer:"
   ]
  },
  {
   "cell_type": "code",
   "execution_count": 6,
   "metadata": {
    "collapsed": false
   },
   "outputs": [],
   "source": [
    "count_vectorizer = CountVectorizer()\n",
    "count_matrix = count_vectorizer.fit_transform(documents)"
   ]
  },
  {
   "cell_type": "code",
   "execution_count": 7,
   "metadata": {
    "collapsed": false
   },
   "outputs": [],
   "source": [
    "tfidf_transformer = TfidfTransformer()\n",
    "tfidf_matrix2 = tfidf_transformer.fit_transform(count_matrix)"
   ]
  },
  {
   "cell_type": "markdown",
   "metadata": {},
   "source": [
    "Видно, что результат одинаков:"
   ]
  },
  {
   "cell_type": "code",
   "execution_count": 8,
   "metadata": {
    "collapsed": false
   },
   "outputs": [
    {
     "name": "stdout",
     "output_type": "stream",
     "text": [
      "\n"
     ]
    }
   ],
   "source": [
    "print(tfidf_matrix - tfidf_matrix2)"
   ]
  },
  {
   "cell_type": "markdown",
   "metadata": {},
   "source": [
    "Но работать приятнее все-таки с TfidfVectorizer :)"
   ]
  },
  {
   "cell_type": "markdown",
   "metadata": {},
   "source": [
    "Далее нам придется преобразовать полученную матрицу в numpy array и выполнять его преобразования, поэтому, чтобы python kernel не умирал, сократим максимальное количество слов-признаков каждого документа до 3000.\n",
    "Также можно еще использовать стоп-слова и нормировать получившиеся векторы отзывов.\n",
    "\n",
    "\n",
    "Поскольку не хочется делать несколько ячеек для преобразования, в этой ячейке будет только последняя версия параметров:\n"
   ]
  },
  {
   "cell_type": "code",
   "execution_count": 18,
   "metadata": {
    "collapsed": true
   },
   "outputs": [],
   "source": [
    "tfidf_vectorizer = TfidfVectorizer(max_features=4000,stop_words='english',norm='l2')\n",
    "tfidf_matrix = tfidf_vectorizer.fit_transform(documents)\n",
    "tfidf_matrix_test = tfidf_vectorizer.transform(test_docs)"
   ]
  },
  {
   "cell_type": "markdown",
   "metadata": {},
   "source": [
    "Преобразуем теперь полученную csr матрицу в numpy array:"
   ]
  },
  {
   "cell_type": "code",
   "execution_count": 19,
   "metadata": {
    "collapsed": false
   },
   "outputs": [],
   "source": [
    "tfidf_matrix = tfidf_matrix.toarray()\n",
    "tfidf_matrix_test = tfidf_matrix_test.toarray()"
   ]
  },
  {
   "cell_type": "markdown",
   "metadata": {},
   "source": [
    "Транспонируем матрицы с данными, т.к. так будет проще реализовать код SVM:"
   ]
  },
  {
   "cell_type": "code",
   "execution_count": 20,
   "metadata": {
    "collapsed": true
   },
   "outputs": [],
   "source": [
    "X_train = tfidf_matrix.transpose()\n",
    "X_test = tfidf_matrix_test.transpose()\n",
    "y_train = score"
   ]
  },
  {
   "cell_type": "markdown",
   "metadata": {},
   "source": [
    "Кстати дополнительную единицу ко всем векторам лучше не добавлять(так называемый bias trick), поскольку все начинает работать медленнее и от этого нет профита - ведь это все равно, что слово, которое встречается во всех отзывах - оно никак не повлияет на их score."
   ]
  },
  {
   "cell_type": "markdown",
   "metadata": {},
   "source": [
    "------\n",
    "\n",
    "### SVM"
   ]
  },
  {
   "cell_type": "markdown",
   "metadata": {},
   "source": [
    "Возьмем подвыборки из обучающей выборки, для быстрой проверки кода."
   ]
  },
  {
   "cell_type": "code",
   "execution_count": 44,
   "metadata": {
    "collapsed": false
   },
   "outputs": [],
   "source": [
    "X_train_sample = X_train[:, 0:100000]\n",
    "y_train_sample = y_train[0:100000]"
   ]
  },
  {
   "cell_type": "markdown",
   "metadata": {},
   "source": [
    "Найдем чему равен градиент:"
   ]
  },
  {
   "cell_type": "code",
   "execution_count": 22,
   "metadata": {
    "collapsed": false
   },
   "outputs": [
    {
     "name": "stdout",
     "output_type": "stream",
     "text": [
      "CPU times: user 4.81 s, sys: 1.52 s, total: 6.33 s\n",
      "Wall time: 4.97 s\n",
      "loss: 3.001152586095088\n",
      " gradient:[[ -1.38897195e-05   3.08802538e-04   2.92247377e-04 ...,   3.94472222e-05\n",
      "    2.37999574e-04   2.24764164e-04]\n",
      " [  6.14372000e-05   4.78039329e-04   3.30608052e-04 ...,   9.56586899e-06\n",
      "    1.95183645e-04   2.24773067e-04]\n",
      " [  1.25879351e-05   1.15611263e-04   1.36744577e-04 ...,   8.46785088e-06\n",
      "    2.38092741e-04   1.19205157e-04]\n",
      " [ -5.98657086e-05  -9.02153607e-04  -7.59448247e-04 ...,  -5.71847951e-05\n",
      "   -6.70205567e-04  -5.69108172e-04]]\n"
     ]
    }
   ],
   "source": [
    "# generate a random SVM weight matrix of small numbers\n",
    "W = np.random.randn(4, X_train_sample.shape[0]) * 0.01 \n",
    "% time loss, grad = svm_loss_naive(W, X_train_sample, y_train_sample, 0.00001)\n",
    "print('loss: {}\\n gradient:{}'.format(loss, grad))"
   ]
  },
  {
   "cell_type": "markdown",
   "metadata": {},
   "source": [
    "Реализуем наивную версию svm_loss и проверим правильность вычислений:"
   ]
  },
  {
   "cell_type": "code",
   "execution_count": 23,
   "metadata": {
    "collapsed": false
   },
   "outputs": [
    {
     "name": "stdout",
     "output_type": "stream",
     "text": [
      "numerical: -0.000078 analytic: -0.000078, relative error: 9.691167e-08\n",
      "numerical: 0.000041 analytic: 0.000041, relative error: 1.920395e-07\n",
      "numerical: -0.000023 analytic: -0.000023, relative error: 5.002932e-08\n",
      "numerical: 0.000033 analytic: 0.000033, relative error: 5.086900e-07\n",
      "numerical: 0.000300 analytic: 0.000300, relative error: 1.309604e-07\n"
     ]
    }
   ],
   "source": [
    "# Once you've implemented the gradient, recompute it with the code below\n",
    "# and gradient check it with the function we provided for you\n",
    "\n",
    "# Compute the loss and its gradient at W.\n",
    "loss, grad = svm_loss_naive(W, X_train_sample, y_train_sample, 0.0)\n",
    "\n",
    "# Numerically compute the gradient along several randomly chosen dimensions, and\n",
    "# compare them with your analytically computed gradient. The numbers should match\n",
    "# almost exactly along all dimensions.\n",
    "f = lambda w: svm_loss_naive(w, X_train_sample, y_train_sample, 0.0)[0]\n",
    "grad_numerical = grad_check_sparse(f, W, grad, 5)"
   ]
  },
  {
   "cell_type": "markdown",
   "metadata": {},
   "source": [
    "Как видно ошибка вычислений очень мала (порядка $10^{-7}$ - $10^{-8}$ ), поэтому можно считать, что вычисления корректны."
   ]
  },
  {
   "cell_type": "markdown",
   "metadata": {},
   "source": [
    "Теперь реализуем векторизованную версию расчета фунции потерь - svm_loss_vectorized и проверим результат:"
   ]
  },
  {
   "cell_type": "code",
   "execution_count": 14,
   "metadata": {
    "collapsed": false
   },
   "outputs": [
    {
     "name": "stdout",
     "output_type": "stream",
     "text": [
      "Naive loss: 3.002937e+00 computed in 3.101828s\n",
      "Vectorized loss: 3.002937e+00 computed in 0.479060s\n",
      "difference: 0.000000\n"
     ]
    }
   ],
   "source": [
    "tic = time.time()\n",
    "loss_naive, grad_naive = svm_loss_naive(W, X_train_sample, y_train_sample, 0.00001)\n",
    "toc = time.time()\n",
    "print('Naive loss: %e computed in %fs' % (loss_naive, toc - tic))\n",
    "\n",
    "tic = time.time()\n",
    "loss_vectorized, _ = svm_loss_vectorized(W, X_train_sample, y_train_sample, 0.00001)\n",
    "toc = time.time()\n",
    "print('Vectorized loss: %e computed in %fs' % (loss_vectorized, toc - tic))\n",
    "\n",
    "# The losses should match but your vectorized implementation should be much faster.\n",
    "print('difference: %f' % (loss_naive - loss_vectorized))"
   ]
  },
  {
   "cell_type": "markdown",
   "metadata": {},
   "source": [
    "Видно, что результат обеих версий одинаков, но векторизованная работает примерно в 10 раз быстрее."
   ]
  },
  {
   "cell_type": "markdown",
   "metadata": {},
   "source": [
    "Завершим реализацию SVM, реализовав векторизированную версию расчета градиента."
   ]
  },
  {
   "cell_type": "code",
   "execution_count": null,
   "metadata": {
    "collapsed": false,
    "scrolled": true
   },
   "outputs": [
    {
     "name": "stdout",
     "output_type": "stream",
     "text": [
      "Naive loss and gradient: computed in 3.327640s\n",
      "Vectorized loss and gradient: computed in 0.506977s\n",
      "difference: 0.000000\n"
     ]
    }
   ],
   "source": [
    "tic = time.time()\n",
    "_, grad_naive = svm_loss_naive(W, X_train_sample, y_train_sample, 0.00001)\n",
    "toc = time.time()\n",
    "print('Naive loss and gradient: computed in %fs' % (toc - tic))\n",
    "\n",
    "tic = time.time()\n",
    "_, grad_vectorized = svm_loss_vectorized(W, X_train_sample, y_train_sample, 0.00001)\n",
    "toc = time.time()\n",
    "print('Vectorized loss and gradient: computed in %fs' % (toc - tic))\n",
    "\n",
    "# The loss is a single number, so it is easy to compare the values computed\n",
    "# by the two implementations. The gradient on the other hand is a matrix, so\n",
    "# we use the Frobenius norm to compare them.\n",
    "difference = np.linalg.norm(grad_naive - grad_vectorized, ord='fro')\n",
    "print('difference: %f' % difference)"
   ]
  },
  {
   "cell_type": "markdown",
   "metadata": {},
   "source": [
    "Как видно, опять же разные версии не отличаются результатом, но векторизованная работает в 10 раз быстрее.\n",
    "Поэтому использовать нужно ее. Но поскольку svm не дает распределения вероятностей классов, \n",
    "его не удастся использовать в контесте на Kaggle."
   ]
  },
  {
   "cell_type": "markdown",
   "metadata": {},
   "source": [
    "### Stochastic Gradient Descent\n",
    "Для оптимизации функции потерь как в случае SVM, так и Softmax будем использовать градиентный спуск.Для ускорения вычислений будем использовать стохастический градиентный спуск, где функции подсчета градиента передается не вся выборка, а только ее часть, выбранная рандомно. \n",
    "\n",
    "Поскольку алгоритмы отличаются только функцией потерь, то реализуем generic линейный классификатор, от которого будут наследоваться SVM и Softmax с ее переопределением."
   ]
  },
  {
   "cell_type": "markdown",
   "metadata": {},
   "source": [
    "Поскольку у нас уже имеется реализация функции потерь для SVM, протестируем работу нашего Linear classifier на нем:"
   ]
  },
  {
   "cell_type": "code",
   "execution_count": 25,
   "metadata": {
    "collapsed": false,
    "scrolled": true
   },
   "outputs": [
    {
     "name": "stdout",
     "output_type": "stream",
     "text": [
      "iteration 0 / 500: loss 3.000099, best_loss 3.000099\n",
      "iteration 100 / 500: loss 2.669543, best_loss 2.665792\n",
      "iteration 200 / 500: loss 2.423444, best_loss 2.423444\n",
      "iteration 300 / 500: loss 2.313332, best_loss 2.309406\n",
      "iteration 400 / 500: loss 2.251874, best_loss 2.249862\n",
      "That took 502.371893s\n",
      "Current loss is 2.216028\n"
     ]
    }
   ],
   "source": [
    "# Now implement SGD in LinearSVM.train() function and run it with the code below\n",
    "svm = LinearSVM()\n",
    "tic = time.time()\n",
    "loss_hist = svm.train(X_train, y_train, learning_rate=5e-2, lambda_=0.01,\n",
    "                      num_iters=500, verbose=True, batch_size=20000)\n",
    "\n",
    "toc = time.time()\n",
    "print('That took %fs' % (toc - tic))\n",
    "print('Current loss is %f' % loss_hist[-1])"
   ]
  },
  {
   "cell_type": "markdown",
   "metadata": {},
   "source": [
    "Про best loss будет понятно позднее, она была нужна для настройки параметров Softmax."
   ]
  },
  {
   "cell_type": "markdown",
   "metadata": {},
   "source": [
    "Удобно смотреть на сходимость градиентного спуска на графике:"
   ]
  },
  {
   "cell_type": "code",
   "execution_count": 27,
   "metadata": {
    "collapsed": false
   },
   "outputs": [
    {
     "data": {
      "text/plain": [
       "<matplotlib.text.Text at 0x118a199e8>"
      ]
     },
     "execution_count": 27,
     "metadata": {},
     "output_type": "execute_result"
    },
    {
     "data": {
      "image/png": "[encoded data removed]",
      "text/plain": [
       "<matplotlib.figure.Figure at 0x11a66e6d8>"
      ]
     },
     "metadata": {},
     "output_type": "display_data"
    }
   ],
   "source": [
    "# A useful debugging strategy is to plot the loss as a function of\n",
    "# iteration number:\n",
    "plt.plot(loss_hist)\n",
    "plt.xlabel('Iteration number')\n",
    "plt.ylabel('Loss value')"
   ]
  },
  {
   "cell_type": "markdown",
   "metadata": {},
   "source": [
    "Как видно по графику, сходимость loss value еще не наступила. Возможно нужно больше итераций или увеличить learning rate."
   ]
  },
  {
   "cell_type": "markdown",
   "metadata": {},
   "source": [
    "Теперь посмотрим как работает predict у SVM:"
   ]
  },
  {
   "cell_type": "code",
   "execution_count": 30,
   "metadata": {
    "collapsed": false
   },
   "outputs": [],
   "source": [
    "# Write the LinearSVM.predict function \n",
    "y_train_pred = svm.predict(X_train)"
   ]
  },
  {
   "cell_type": "code",
   "execution_count": 31,
   "metadata": {
    "collapsed": false
   },
   "outputs": [
    {
     "name": "stdout",
     "output_type": "stream",
     "text": [
      "             precision    recall  f1-score   support\n",
      "\n",
      "          0       0.48      0.30      0.37     35097\n",
      "          1       0.55      0.04      0.08     20066\n",
      "          2       0.41      0.01      0.02     53979\n",
      "          3       0.72      0.97      0.83    243136\n",
      "\n",
      "avg / total       0.64      0.71      0.62    352278\n",
      "\n"
     ]
    }
   ],
   "source": [
    "print(classification_report(y_train, y_train_pred))"
   ]
  },
  {
   "cell_type": "code",
   "execution_count": 32,
   "metadata": {
    "collapsed": false
   },
   "outputs": [
    {
     "name": "stdout",
     "output_type": "stream",
     "text": [
      "             precision    recall  f1-score   support\n",
      "\n",
      "          0       0.00      0.00      0.00     35097\n",
      "          1       0.00      0.00      0.00     20066\n",
      "          2       0.00      0.00      0.00     53979\n",
      "          3       0.69      1.00      0.82    243136\n",
      "\n",
      "avg / total       0.48      0.69      0.56    352278\n",
      "\n"
     ]
    },
    {
     "name": "stderr",
     "output_type": "stream",
     "text": [
      "/Users/nastya/anaconda3/lib/python3.5/site-packages/sklearn/metrics/classification.py:1074: UndefinedMetricWarning: Precision and F-score are ill-defined and being set to 0.0 in labels with no predicted samples.\n",
      "  'precision', 'predicted', average, warn_for)\n"
     ]
    }
   ],
   "source": [
    "# compare result with the most common dummy classifier\n",
    "print(classification_report(y_train, [3]*len(y_train)))"
   ]
  },
  {
   "cell_type": "markdown",
   "metadata": {},
   "source": [
    "Как и ожидалось, svm работает лучше чем dummy classifier"
   ]
  },
  {
   "cell_type": "markdown",
   "metadata": {},
   "source": [
    "--------"
   ]
  },
  {
   "cell_type": "markdown",
   "metadata": {},
   "source": [
    "## Softmax Classifier"
   ]
  },
  {
   "cell_type": "markdown",
   "metadata": {},
   "source": [
    "Так же, как и в случае SVM реализуем две версии функции потерь: с циклами и векторизованную."
   ]
  },
  {
   "cell_type": "code",
   "execution_count": 18,
   "metadata": {
    "collapsed": false
   },
   "outputs": [
    {
     "name": "stdout",
     "output_type": "stream",
     "text": [
      "loss: 1.385378\n",
      "sanity check: 2.302585\n"
     ]
    }
   ],
   "source": [
    "# First implement the naive softmax loss function with nested loops.\n",
    "\n",
    "# Generate a random softmax weight matrix and use it to compute the loss.\n",
    "W = np.random.randn(4, X_train_sample.shape[0]) * 0.01 \n",
    "loss, grad = softmax_loss_naive(W, X_train_sample, y_train_sample, 0.0)\n",
    "\n",
    "# As a rough sanity check, our loss should be something close to -log(0.1).\n",
    "print('loss: %f' % loss)\n",
    "print('sanity check: %f' % (-np.log(0.1)))"
   ]
  },
  {
   "cell_type": "markdown",
   "metadata": {},
   "source": [
    "Проверяем работу наивной версии:"
   ]
  },
  {
   "cell_type": "code",
   "execution_count": 10,
   "metadata": {
    "collapsed": false
   },
   "outputs": [
    {
     "name": "stdout",
     "output_type": "stream",
     "text": [
      "numerical: -0.000034 analytic: -0.000034, relative error: 6.401608e-08\n",
      "numerical: 0.000011 analytic: 0.000011, relative error: 1.600514e-07\n",
      "numerical: 0.000042 analytic: 0.000042, relative error: 2.248464e-08\n",
      "numerical: 0.000003 analytic: 0.000003, relative error: 3.905276e-06\n",
      "numerical: 0.000008 analytic: 0.000008, relative error: 4.671906e-07\n"
     ]
    }
   ],
   "source": [
    "# Complete the implementation of softmax_loss_naive and implement a (naive)\n",
    "# version of the gradient that uses nested loops.\n",
    "loss, grad = softmax_loss_naive(W, X_train_sample, y_train_sample, 0.0)\n",
    "\n",
    "# As we did for the SVM, use numeric gradient checking as a debugging tool.\n",
    "# The numeric gradient should be close to the analytic gradient.\n",
    "f = lambda w: softmax_loss_naive(w, X_train_sample, y_train_sample, 0.0)[0]\n",
    "grad_numerical = grad_check_sparse(f, W, grad, 5)"
   ]
  },
  {
   "cell_type": "markdown",
   "metadata": {},
   "source": [
    "Также как и в случае SVM получаем ошибку порядка $10^{-7}$ - $10^{-8}$, значит все в порядке."
   ]
  },
  {
   "cell_type": "markdown",
   "metadata": {},
   "source": [
    "Сравним наивную и векторную реализации:"
   ]
  },
  {
   "cell_type": "code",
   "execution_count": 22,
   "metadata": {
    "collapsed": false
   },
   "outputs": [
    {
     "name": "stdout",
     "output_type": "stream",
     "text": [
      "naive loss: 1.385390e+00 computed in 3.733446s\n",
      "vectorized loss: 1.385390e+00 computed in 0.544031s\n",
      "Loss difference: 0.000000\n",
      "Gradient difference: 0.000000\n"
     ]
    }
   ],
   "source": [
    "# Now that we have a naive implementation of the softmax loss function and its gradient,\n",
    "# implement a vectorized version in softmax_loss_vectorized.\n",
    "# The two versions should compute the same results, but the vectorized version should be\n",
    "# much faster.\n",
    "tic = time.time()\n",
    "loss_naive, grad_naive = softmax_loss_naive(W, X_train_sample, y_train_sample, 0.00001)\n",
    "toc = time.time()\n",
    "print('naive loss: %e computed in %fs' % (loss_naive, toc - tic))\n",
    "\n",
    "tic = time.time()\n",
    "loss_vectorized, grad_vectorized = softmax_loss_vectorized(W, X_train_sample, y_train_sample, 0.00001)\n",
    "toc = time.time()\n",
    "print('vectorized loss: %e computed in %fs' % (loss_vectorized, toc - tic))\n",
    "\n",
    "# As we did for the SVM, we use the Frobenius norm to compare the two versions\n",
    "# of the gradient.\n",
    "grad_difference = np.linalg.norm(grad_naive - grad_vectorized, ord='fro')\n",
    "print('Loss difference: %f' % np.abs(loss_naive - loss_vectorized))\n",
    "print('Gradient difference: %f' % grad_difference)"
   ]
  },
  {
   "cell_type": "markdown",
   "metadata": {},
   "source": [
    "Тут опять все хорошо, все считается правильно, ну и как ожидалось векторная версия работает в 10 раз быстрее."
   ]
  },
  {
   "cell_type": "markdown",
   "metadata": {},
   "source": [
    "Теперь проверим работу Softmax classifier:"
   ]
  },
  {
   "cell_type": "code",
   "execution_count": 36,
   "metadata": {
    "collapsed": false
   },
   "outputs": [
    {
     "name": "stdout",
     "output_type": "stream",
     "text": [
      "iteration 0 / 500: loss 1.386450, best_loss 1.386450\n",
      "iteration 100 / 500: loss 1.365833, best_loss 1.365833\n",
      "iteration 200 / 500: loss 1.350062, best_loss 1.350062\n",
      "iteration 300 / 500: loss 1.338302, best_loss 1.338102\n",
      "iteration 400 / 500: loss 1.328498, best_loss 1.327856\n",
      "That took 517.329016s\n",
      "Current loss is 1.322960\n"
     ]
    }
   ],
   "source": [
    "sm = Softmax()\n",
    "tic = time.time()\n",
    "loss_hist = sm.train(X_train, y_train, learning_rate=5e-2, lambda_=0.01,\n",
    "                      num_iters=500, verbose=True, batch_size=20000)\n",
    "\n",
    "toc = time.time()\n",
    "print('That took %fs' % (toc - tic))\n",
    "print('Current loss is %f' % loss_hist[-1])"
   ]
  },
  {
   "cell_type": "code",
   "execution_count": 37,
   "metadata": {
    "collapsed": false
   },
   "outputs": [
    {
     "data": {
      "text/plain": [
       "<matplotlib.text.Text at 0x11b349ba8>"
      ]
     },
     "execution_count": 37,
     "metadata": {},
     "output_type": "execute_result"
    },
    {
     "data": {
      "image/png": "[encoded data removed]",
      "text/plain": [
       "<matplotlib.figure.Figure at 0x11a66e860>"
      ]
     },
     "metadata": {},
     "output_type": "display_data"
    }
   ],
   "source": [
    "# A useful debugging strategy is to plot the loss as a function of\n",
    "# iteration number:\n",
    "plt.plot(loss_hist)\n",
    "plt.xlabel('Iteration number')\n",
    "plt.ylabel('Loss value')"
   ]
  },
  {
   "cell_type": "markdown",
   "metadata": {},
   "source": [
    "Тут как и в случае SVM скорее всего нужно больше итерации или большой learning rate."
   ]
  },
  {
   "cell_type": "markdown",
   "metadata": {},
   "source": [
    "Проверим работу predict:"
   ]
  },
  {
   "cell_type": "code",
   "execution_count": 39,
   "metadata": {
    "collapsed": true
   },
   "outputs": [],
   "source": [
    "# Write the Softmax  function \n",
    "y_train_pred = sm.predict(X_train)"
   ]
  },
  {
   "cell_type": "code",
   "execution_count": 41,
   "metadata": {
    "collapsed": false
   },
   "outputs": [
    {
     "name": "stdout",
     "output_type": "stream",
     "text": [
      "             precision    recall  f1-score   support\n",
      "\n",
      "          0       0.47      0.30      0.36     35097\n",
      "          1       0.42      0.05      0.09     20066\n",
      "          2       0.30      0.02      0.03     53979\n",
      "          3       0.72      0.97      0.83    243136\n",
      "\n",
      "avg / total       0.62      0.70      0.62    352278\n",
      "\n"
     ]
    }
   ],
   "source": [
    "print(classification_report(y_train, y_train_pred))"
   ]
  },
  {
   "cell_type": "code",
   "execution_count": 43,
   "metadata": {
    "collapsed": false
   },
   "outputs": [
    {
     "name": "stdout",
     "output_type": "stream",
     "text": [
      "             precision    recall  f1-score   support\n",
      "\n",
      "          0       0.00      0.00      0.00     35097\n",
      "          1       0.00      0.00      0.00     20066\n",
      "          2       0.00      0.00      0.00     53979\n",
      "          3       0.69      1.00      0.82    243136\n",
      "\n",
      "avg / total       0.48      0.69      0.56    352278\n",
      "\n"
     ]
    },
    {
     "name": "stderr",
     "output_type": "stream",
     "text": [
      "/Users/nastya/anaconda3/lib/python3.5/site-packages/sklearn/metrics/classification.py:1074: UndefinedMetricWarning: Precision and F-score are ill-defined and being set to 0.0 in labels with no predicted samples.\n",
      "  'precision', 'predicted', average, warn_for)\n"
     ]
    }
   ],
   "source": [
    "# compare result with the most common dummy classifier\n",
    "print(classification_report(y_train, [3]*len(y_train)))"
   ]
  },
  {
   "cell_type": "markdown",
   "metadata": {},
   "source": [
    "Тут тоже, как и ожидалось predict дает результаты лучше, чем dummy classifier."
   ]
  },
  {
   "cell_type": "markdown",
   "metadata": {},
   "source": [
    "------\n",
    "\n",
    "### Kaggle\n",
    "\n",
    "Как уже было упомянуто выше, для решения контеста не получится использовать SVM, поскольку там нужно минимизировать log_loss, а ответ SVM не является распределением вероятностей классов. \n",
    "\n",
    "Поэтому кросс-валидацию будем проводить только для Softmax. Для этого кстати пришлось написать отдельную функцию, которая возвращает распределение, а не просто ответ."
   ]
  },
  {
   "cell_type": "markdown",
   "metadata": {},
   "source": [
    "Ниже просто код для тренировки Softmax на подобранных в кросс-валидации(см еще чуть-чуть ниже) параметрах. Как видно, из-за маленького batch-size возрастает дисперсия loss-value, но зато можно добиться более низких значений log_loss, поскольку тут на самом деле берется матрица весов с наименьшим значением функции потерь за все шаги(отсюда и best_loss в debug outputе)."
   ]
  },
  {
   "cell_type": "code",
   "execution_count": 41,
   "metadata": {
    "collapsed": true
   },
   "outputs": [
    {
     "name": "stdout",
     "output_type": "stream",
     "text": [
      "iteration 0 / 7000: loss 1.386194, best_loss 1.386194\n",
      "iteration 100 / 7000: loss 0.985144, best_loss 0.939528\n",
      "iteration 200 / 7000: loss 0.910265, best_loss 0.871015\n",
      "iteration 300 / 7000: loss 0.869388, best_loss 0.832539\n",
      "iteration 400 / 7000: loss 0.884260, best_loss 0.804443\n",
      "iteration 500 / 7000: loss 0.822382, best_loss 0.735541\n",
      "iteration 600 / 7000: loss 0.823000, best_loss 0.735541\n",
      "iteration 700 / 7000: loss 0.825830, best_loss 0.726971\n",
      "iteration 800 / 7000: loss 0.783347, best_loss 0.717778\n",
      "iteration 900 / 7000: loss 0.811269, best_loss 0.717778\n",
      "iteration 1000 / 7000: loss 0.806982, best_loss 0.717778\n",
      "iteration 1100 / 7000: loss 0.816095, best_loss 0.690400\n",
      "iteration 1200 / 7000: loss 0.763305, best_loss 0.666553\n",
      "iteration 1300 / 7000: loss 0.773341, best_loss 0.666553\n",
      "iteration 1400 / 7000: loss 0.736400, best_loss 0.666553\n",
      "iteration 1500 / 7000: loss 0.778578, best_loss 0.666553\n",
      "iteration 1600 / 7000: loss 0.810065, best_loss 0.666553\n",
      "iteration 1700 / 7000: loss 0.746719, best_loss 0.666553\n",
      "iteration 1800 / 7000: loss 0.719207, best_loss 0.660002\n",
      "iteration 1900 / 7000: loss 0.715951, best_loss 0.660002\n",
      "iteration 2000 / 7000: loss 0.747969, best_loss 0.660002\n",
      "iteration 2100 / 7000: loss 0.748536, best_loss 0.660002\n",
      "iteration 2200 / 7000: loss 0.742026, best_loss 0.656544\n",
      "iteration 2300 / 7000: loss 0.749897, best_loss 0.656544\n",
      "iteration 2400 / 7000: loss 0.730994, best_loss 0.656544\n",
      "iteration 2500 / 7000: loss 0.761336, best_loss 0.656544\n",
      "iteration 2600 / 7000: loss 0.738256, best_loss 0.648044\n",
      "iteration 2700 / 7000: loss 0.761510, best_loss 0.648044\n",
      "iteration 2800 / 7000: loss 0.768729, best_loss 0.648044\n",
      "iteration 2900 / 7000: loss 0.745076, best_loss 0.648044\n",
      "iteration 3000 / 7000: loss 0.758763, best_loss 0.644995\n",
      "iteration 3100 / 7000: loss 0.735263, best_loss 0.641379\n",
      "iteration 3200 / 7000: loss 0.736672, best_loss 0.641379\n",
      "iteration 3300 / 7000: loss 0.645996, best_loss 0.641379\n",
      "iteration 3400 / 7000: loss 0.811445, best_loss 0.641379\n",
      "iteration 3500 / 7000: loss 0.746612, best_loss 0.619975\n",
      "iteration 3600 / 7000: loss 0.709491, best_loss 0.619975\n",
      "iteration 3700 / 7000: loss 0.687926, best_loss 0.619975\n",
      "iteration 3800 / 7000: loss 0.746693, best_loss 0.619975\n",
      "iteration 3900 / 7000: loss 0.727932, best_loss 0.619975\n",
      "iteration 4000 / 7000: loss 0.701657, best_loss 0.619975\n",
      "iteration 4100 / 7000: loss 0.727207, best_loss 0.619975\n",
      "iteration 4200 / 7000: loss 0.766990, best_loss 0.619975\n",
      "iteration 4300 / 7000: loss 0.723342, best_loss 0.619975\n",
      "iteration 4400 / 7000: loss 0.700269, best_loss 0.619975\n",
      "iteration 4500 / 7000: loss 0.720217, best_loss 0.619975\n",
      "iteration 4600 / 7000: loss 0.711546, best_loss 0.619975\n",
      "iteration 4700 / 7000: loss 0.695506, best_loss 0.612493\n",
      "iteration 4800 / 7000: loss 0.765898, best_loss 0.612493\n",
      "iteration 4900 / 7000: loss 0.664877, best_loss 0.612493\n",
      "iteration 5000 / 7000: loss 0.681135, best_loss 0.612493\n",
      "iteration 5100 / 7000: loss 0.714947, best_loss 0.612493\n",
      "iteration 5200 / 7000: loss 0.702375, best_loss 0.612493\n",
      "iteration 5300 / 7000: loss 0.692877, best_loss 0.612493\n",
      "iteration 5400 / 7000: loss 0.716361, best_loss 0.612493\n",
      "iteration 5500 / 7000: loss 0.707293, best_loss 0.612493\n",
      "iteration 5600 / 7000: loss 0.723081, best_loss 0.612493\n",
      "iteration 5700 / 7000: loss 0.669628, best_loss 0.600699\n",
      "iteration 5800 / 7000: loss 0.714526, best_loss 0.600699\n",
      "iteration 5900 / 7000: loss 0.723198, best_loss 0.600699\n",
      "iteration 6000 / 7000: loss 0.686851, best_loss 0.600699\n",
      "iteration 6100 / 7000: loss 0.653690, best_loss 0.600699\n",
      "iteration 6200 / 7000: loss 0.696523, best_loss 0.600699\n",
      "iteration 6300 / 7000: loss 0.645489, best_loss 0.600699\n",
      "iteration 6400 / 7000: loss 0.692937, best_loss 0.597624\n",
      "iteration 6500 / 7000: loss 0.635185, best_loss 0.597624\n",
      "iteration 6600 / 7000: loss 0.691372, best_loss 0.597624\n",
      "iteration 6700 / 7000: loss 0.625514, best_loss 0.597624\n",
      "iteration 6800 / 7000: loss 0.631452, best_loss 0.597624\n",
      "iteration 6900 / 7000: loss 0.727023, best_loss 0.571084\n",
      "That took 142.237275s\n",
      "Current loss is 0.732902\n"
     ]
    }
   ],
   "source": [
    "sm = Softmax()\n",
    "tic = time.time()\n",
    "loss_hist = sm.train(X_train, y_train, learning_rate=3, lambda_=1e-7,\n",
    "                      num_iters=7000, verbose=True, batch_size=500)\n",
    "\n",
    "toc = time.time()\n",
    "print('That took %fs' % (toc - tic))\n",
    "print('Current loss is %f' % loss_hist[-1])"
   ]
  },
  {
   "cell_type": "code",
   "execution_count": 43,
   "metadata": {
    "collapsed": false
   },
   "outputs": [
    {
     "data": {
      "text/plain": [
       "<matplotlib.text.Text at 0x118262940>"
      ]
     },
     "execution_count": 43,
     "metadata": {},
     "output_type": "execute_result"
    },
    {
     "data": {
      "image/png": "[encoded data removed]",
      "text/plain": [
       "<matplotlib.figure.Figure at 0x117c3e8d0>"
      ]
     },
     "metadata": {},
     "output_type": "display_data"
    }
   ],
   "source": [
    "plt.plot(loss_hist)\n",
    "plt.xlabel('Iteration number')\n",
    "plt.ylabel('Loss value')"
   ]
  },
  {
   "cell_type": "code",
   "execution_count": 44,
   "metadata": {
    "collapsed": true
   },
   "outputs": [],
   "source": [
    "probs = sm.predict_probabilities(X_test)"
   ]
  },
  {
   "cell_type": "code",
   "execution_count": 45,
   "metadata": {
    "collapsed": true
   },
   "outputs": [],
   "source": [
    "output_to_csv(probs,test_data.index.values, 'output.csv')"
   ]
  },
  {
   "cell_type": "markdown",
   "metadata": {},
   "source": [
    "## Cross validation"
   ]
  },
  {
   "cell_type": "markdown",
   "metadata": {},
   "source": [
    "Будем подбирать learning_rate, коэффициент регуляризации, количество итераций и batch_size, минимизируя  log_loss."
   ]
  },
  {
   "cell_type": "code",
   "execution_count": 8,
   "metadata": {
    "collapsed": false
   },
   "outputs": [
    {
     "name": "stdout",
     "output_type": "stream",
     "text": [
      "learning_rates: [1, 0.1, 0.5, 0.01, 0.05, 0.001, 0.005, 0.0001, 0.0005]\n",
      "lambdas: [0, 0.1, 0.01, 0.001, 0.0001, 1e-05, 1e-06, 1e-07, 1e-08, 1e-09]\n",
      "num_iters: [2000, 3000, 4000, 5000, 6000, 7000, 8000, 9000]\n",
      "batch_sizes: [1000, 10000, 100000]\n",
      "\n"
     ]
    }
   ],
   "source": [
    "# prepare parameters\n",
    "learning_rates = [1]\n",
    "lambdas = [0]\n",
    "num_iters = []\n",
    "batch_sizes = []\n",
    "for power in range(1,10):\n",
    "    lambdas.append(math.pow(10, -power))\n",
    "    if power < 5:\n",
    "        ten_power = math.pow(10, -power)\n",
    "        learning_rates.append(ten_power)\n",
    "        learning_rates.append(5*ten_power)\n",
    "    if 2 < power < 6:\n",
    "        batch_sizes.append(int(math.pow(10,power)))\n",
    "    if power > 1:\n",
    "        num_iters.append(power*1000)\n",
    "format_str = 'learning_rates: {}\\nlambdas: {}\\nnum_iters: {}\\nbatch_sizes: {}\\n'\n",
    "print(format_str.format(learning_rates, lambdas, num_iters, batch_sizes))"
   ]
  },
  {
   "cell_type": "markdown",
   "metadata": {},
   "source": [
    "Ниже приведен сам процесс кросс-валидации. Результаты можно посмотреть в cross_validation_report.txt.\n",
    "\n",
    "По ним видно, что лучшие результаты дает алгоритм с наибольшим learning_rate = 1, причем результат улучшается с увеличением количества итераций. Также лучше всего оказалось убрать регуляризацию или сделать ее порядка $10^{-7}$, тоже самое с batch_size: его увеличение не повлияло на результат.Лучше было его уменьшить для ускорения.\n",
    "\n",
    "Наоборот, после кросс-валидации стало понятно, что лучше всего будет увеличить еще немного learning_rate, уменьшить batch_size и немного поиграть c размером векторов и стоп-словами.\n",
    "\n",
    "Итого, лучшие результаты дал алгоритм с параметрами: \n",
    "\n",
    "learning_rate=3, lambda_=1e-7, num_iters=7000, batch_size=500 stop_words=english max_features=4000\n",
    "\n",
    "Кстати, видимо поскольку модель линейная, результат на Kaggle почти не отличался от полученного в кросс-валидации."
   ]
  },
  {
   "cell_type": "code",
   "execution_count": null,
   "metadata": {
    "collapsed": false
   },
   "outputs": [],
   "source": [
    "# cross validation process\n",
    "for iters in num_iters:\n",
    "    for lambda_ in lambdas:\n",
    "        for rate in learning_rates:\n",
    "            X_train_s, X_test_s, y_train_s, y_test_s = train_test_split(X_train.T, y_train, test_size=0.33)\n",
    "            X_train_s = X_train_s.T\n",
    "            X_test_s = X_test_s.T\n",
    "            sm = Softmax()\n",
    "            tic = time.time()\n",
    "            loss_hist = sm.train(X_train_s, y_train_s, learning_rate=rate, lambda_=lambda_,\n",
    "                                 num_iters=iters, batch_size=500)\n",
    "            toc = time.time()\n",
    "            pred_probs = sm.predict_probabilities(X_test_s)\n",
    "            score = log_loss(y_test_s, pred_probs)\n",
    "            print('Training took %fs' % (toc - tic))\n",
    "            print('Parameters: num_iters: {},batch_size: {},lambda: {}, learning_rate: {}'.format(iters, 1000,\n",
    "                                                                                                  lambda_, rate))\n",
    "            print('Current log_loss is %f' % score)"
   ]
  }
 ],
 "metadata": {
  "kernelspec": {
   "display_name": "Python 3",
   "language": "python",
   "name": "python3"
  },
  "language_info": {
   "codemirror_mode": {
    "name": "ipython",
    "version": 3
   },
   "file_extension": ".py",
   "mimetype": "text/x-python",
   "name": "python",
   "nbconvert_exporter": "python",
   "pygments_lexer": "ipython3",
   "version": "3.5.1"
  }
 },
 "nbformat": 4,
 "nbformat_minor": 0
}
