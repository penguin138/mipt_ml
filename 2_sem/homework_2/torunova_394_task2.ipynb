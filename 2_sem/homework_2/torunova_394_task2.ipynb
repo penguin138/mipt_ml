{
 "cells": [
  {
   "cell_type": "markdown",
   "metadata": {},
   "source": [
    "МФТИ ФИВТ: Курс Машинное Обучение (осень, 2016), Арсений Ашуха, ars.ashuha@gmail.com"
   ]
  },
  {
   "cell_type": "markdown",
   "metadata": {},
   "source": [
    "<h1 align=\"center\">Organization Info</h1> "
   ]
  },
  {
   "cell_type": "markdown",
   "metadata": {},
   "source": [
    "**Дополнительный материал для выполнения дз**:\n",
    "- Hastie, The Elements of Statistical Learning, https://goo.gl/k3wfEU, 10 Boosting and Additive Trees 337\n",
    "- Соколов, Семинары по композиционным методам, https://goo.gl/sn8RyJ, http://goo.gl/ajNTQy\n",
    "\n",
    "**Оформление дз**: \n",
    "- Присылайте выполненное задание на почту ``ml.course.mipt@gmail.com``\n",
    "- Укажите тему письма в следующем формате ``ML2016_fall <номер_группы> <фамилия>``, к примеру -- ``ML2016_fall 401 ivanov``\n",
    "- Выполненное дз сохраните в файл ``<фамилия>_<группа>_task<номер>.ipynb``, к примеру -- ``ivanov_401_task1.ipynb``\n",
    "\n",
    "**Вопросы**:\n",
    "- Присылайте вопросы на почту ``ml.course.mipt@gmail.com``\n",
    "- Укажите тему письма в следующем формате ``ML2016_fall Question <Содержание вопроса>``\n",
    "\n",
    "--------\n",
    "- **PS1**: Мы используем автоматические фильтры, и просто не найдем ваше дз, если вы не аккуратно его подпишите.\n",
    "- **PS2**: Напоминаем, что дедлайны жесткие, письма пришедшие после автоматически удаляются =( чтобы соблазна не было "
   ]
  },
  {
   "cell_type": "markdown",
   "metadata": {},
   "source": [
    "<h1 align=\"center\">Check Questions</h1> "
   ]
  },
  {
   "cell_type": "markdown",
   "metadata": {},
   "source": [
    "Ответе на вопросы своими словами (загугленный материал надо пересказать), ответ обоснуйте (напишите и ОБЪЯСНИТЕ формулки если потребуется), если не выходит, то вернитесь к лекции дополнительным материалам:\n",
    "\n",
    "**Вопрос 1**: Чем отличается AdaBoost от XGBoost? Перечислите принципиальные отличия. \n",
    "\n",
    "Adaboost - композиционный алгоритм, который использует веса, чтобы указать на ошибки предыдущуго алгоритма в композиции, чтобы каждый следующий алгоритм больше фокусировался именно на этих объектах, причем у базового алгоритма будет больше вес в композиции, если он меньше ошибается.\n",
    "XGBoost во-первых является конкретной реализацией градиентного бустинга, а не generic алгоритмом. Во-вторых в градиентном бустинге каждый следующий алгоритм предсказывает градиент ошибки по ответам. Еще функция потерь может быть любая, а в Adaboost используется экспоненциальная.\n",
    "\n",
    "**Вопрос 2**: Почему говорят, что AdaBoost неустойчив к выбросам?\n",
    "\n",
    "AdaBoost использует экспоненциальную функцию потерь, которая сильно увеличивает веса объектов, на которых ошибаются базовые алгоритмы, а такие объекты могут оказываться шумом. Получается что итоговый композиционный алгоритм начинает подстраиваться под шумовые объекты. \n",
    "\n",
    "**Вопрос 3**:  В каком пространстве градиентный бустинг совершает градиентный спуск? Какова размерность этого пространства?\n",
    "\n",
    "Градиентный бустинг совершает градиентный спуск в пространстве ответов. Размерность этого пространства это размерность вектора ответов, т.е количество элементов в выборке.\n",
    "\n",
    "**Вопрос 4**: В чем заключается сокращение шага в градиентном бустинге? Как число итераций, необходимое для сходимости, зависит от размера шага η?\n",
    "\n",
    "Уменьшаем коэффициенты перед градиентами при увеличении номера итерации. Чем больше шаг, тем меньше нужно итераций для сходимости и наоборот, если шаг очень маленький, то сходиться алгоритм будет медленнее.\n",
    "\n",
    "**Вопрос 5**: Что такое стохастический градиентный бустинг?\n",
    "\n",
    "В стохастическом градиентном бустинге на каждом шаге мы считаем градиенты по ответам только на случайно выбранной части выборки. По сути вместо обычного градиентного спуска мы выполняем стохастический градиентный спуск.\n",
    "\n",
    "-----------\n",
    "PS: Если проверяющий не понял ответ на большинство вопросов, то будет пичалька. Пишите так, чтобы можно было разобраться. "
   ]
  },
  {
   "cell_type": "markdown",
   "metadata": {
    "collapsed": true
   },
   "source": [
    "<h1 align=\"center\">Boosting</h1> "
   ]
  },
  {
   "cell_type": "markdown",
   "metadata": {
    "collapsed": true
   },
   "source": [
    "1) Задача 1 \n",
    "![](./img/task11.png)\n",
    "![](./img/task12.png)\n",
    "\n",
    "Отметим точки $x_1,...., x_l$ на прямой (переобозначим их индексы и индексы ответов так, чтобы $x_i < x_{i+1}$  для удобства) и выберем точки $z_{1,1},\\ z_{1,2},\\ ...\\ z_{i, 1},\\ z_{i, 2}....,\\ z_{l + 1, 1}, z_{l + 1, 1}\\ $ так, чтобы $ z_{i-1, 2} < z_{i, 1} < x_{i} < z_{i, 2} < z_{i+1, 1}\\ \\forall\\ i\\ \\in\\ \\{1 ... l\\}$. \n",
    "Пусть решающие пни выдают следующие индикаторы: $I(x < z_{i, 1} )$ и $I(x < z_{i, 2})$ и для них коэффициентами будут $-y_i$ и $ y_i$ соответственно $\\forall\\ i\\ $. Тогда композиция таких пней будет выдавать функцию $f(x) = \\sum\\limits_{i\\in\\{1 ... l\\}} y_i \\cdot I(z_{i, 1} < x < z_{i, 2})$, которая всегда на объекте $x_i$ будет выдавать $y_i$. Получается мы нашли композицию 2l + 2 пней, которая не дает ошибок на обучающей выборке, что и требовалось.\n",
    "\n",
    "2) Найдите градиент логистичиской функции потерь для фиксированного объекта\n",
    "\n",
    "$L(z, y) = ln(1 + exp(-yz))$\n",
    "\n",
    "$L_{z} = \\frac{1}{1 + exp(-yz)} \\cdot (-y)\\cdot exp(-yz) = \\frac{-y}{1 + exp(yz)}$"
   ]
  },
  {
   "cell_type": "markdown",
   "metadata": {},
   "source": [
    "<h1 align=\"center\">Binary Boosting Implementation</h1> "
   ]
  },
  {
   "cell_type": "markdown",
   "metadata": {},
   "source": [
    "Нужно реализовать двухклассовый бустинг с логистической функцией потерь. \n",
    "\n",
    "Длину шага -- или используйте $1.0*lr$ или подбирайте одномерной оптимизацией;"
   ]
  },
  {
   "cell_type": "code",
   "execution_count": 1,
   "metadata": {
    "collapsed": false
   },
   "outputs": [
    {
     "name": "stdout",
     "output_type": "stream",
     "text": [
      "Populating the interactive namespace from numpy and matplotlib\n"
     ]
    }
   ],
   "source": [
    "%pylab inline\n",
    "\n",
    "import warnings\n",
    "import numpy as np\n",
    "import pandas as pd\n",
    "from copy import deepcopy\n",
    "from utils import plot_surface\n",
    "from sklearn.tree import DecisionTreeRegressor\n",
    "from sklearn.cross_validation import cross_val_score\n",
    "from sklearn.base import ClassifierMixin, BaseEstimator\n",
    "from sklearn.ensemble import GradientBoostingClassifier\n",
    "from scipy.optimize import minimize\n",
    "\n",
    "warnings.simplefilter(\"ignore\")"
   ]
  },
  {
   "cell_type": "code",
   "execution_count": 2,
   "metadata": {
    "collapsed": false
   },
   "outputs": [],
   "source": [
    "class BinaryBoostingClassifier(BaseEstimator, ClassifierMixin):\n",
    "    def __init__(self, n_estimators, lr=0.1, optimize_step=False):\n",
    "        self.lr = lr   \n",
    "        self.n_estimators = n_estimators\n",
    "        self.optimize_step = optimize_step\n",
    "    \n",
    "    def loss_grad(self, original_y, pred_y):\n",
    "        return -original_y / (1 + np.exp(original_y*pred_y))\n",
    "    \n",
    "    def logistic_loss(self, original_y, pred_y):\n",
    "        return np.sum(np.log(1 + np.exp(original_y*pred_y))) / len(original_y) \n",
    "        \n",
    "    def fit(self, X, original_y):\n",
    "        # Храните базовые алгоритмы тут\n",
    "        self.estimators_ = []\n",
    "        self.alphas = []\n",
    "        \n",
    "        for i in range(self.n_estimators):\n",
    "            grad = self.loss_grad(original_y, self._predict(X))\n",
    "            # Настройте базовый алгоритм на градиент, это классификация или регрессия?\n",
    "            estimator = DecisionTreeRegressor(max_depth=4).fit(X, -grad)\n",
    "            grad_pred = estimator.predict(X)\n",
    "            if self.optimize_step:\n",
    "                alpha_opt = minimize(lambda alpha: self.logistic_loss(original_y,\n",
    "                                                                      self._predict(X) + alpha * grad_pred),\n",
    "                                     [0]).x[0]\n",
    "                self.alphas.append(alpha_opt)\n",
    "            # print(alpha_opt)\n",
    "            self.estimators_.append(estimator)  \n",
    "        self.out_ = self.outliers(grad)\n",
    "\n",
    "        return self\n",
    "\n",
    "    def _predict(self, X):\n",
    "        y_pred = np.zeros(X.shape[0]) \n",
    "        for idx, estimator in enumerate(self.estimators_):\n",
    "            if self.optimize_step:\n",
    "                y_pred += self.alphas[idx] * estimator.predict(X)\n",
    "            else:\n",
    "                y_pred += self.lr * estimator.predict(X)\n",
    "        # y_pred = <Получите ответ композиции до применения решающего правила>\n",
    "                              \n",
    "        return y_pred\n",
    "    \n",
    "    def predict(self, X):\n",
    "        y_pred = np.sign(self._predict(X))\n",
    "        if self.optimize_step:\n",
    "            y_pred *= -1\n",
    "        return y_pred\n",
    "    \n",
    "    def outliers(self, grad):\n",
    "        return np.argsort(grad)[-10:]"
   ]
  },
  {
   "cell_type": "markdown",
   "metadata": {},
   "source": [
    "<h1 align=\"center\">Simple test</h1> "
   ]
  },
  {
   "cell_type": "code",
   "execution_count": 3,
   "metadata": {
    "collapsed": false
   },
   "outputs": [],
   "source": [
    "import matplotlib.pyplot as plt\n",
    "from sklearn.datasets import make_classification\n",
    "\n",
    "X, y = make_classification(n_samples=500, n_features=2,\n",
    "                           n_informative=2, n_redundant=0, n_repeated=0,\n",
    "                           n_classes=2, n_clusters_per_class=2,\n",
    "                           flip_y=0.05, class_sep=0.8, random_state=241)\n",
    "y = 2*(y-0.5)"
   ]
  },
  {
   "cell_type": "code",
   "execution_count": 221,
   "metadata": {
    "collapsed": false
   },
   "outputs": [
    {
     "data": {
      "image/png": "[encoded data removed]",
      "text/plain": [
       "<matplotlib.figure.Figure at 0x1121a3610>"
      ]
     },
     "metadata": {},
     "output_type": "display_data"
    }
   ],
   "source": [
    "clf = BinaryBoostingClassifier(n_estimators=100, optimize_step=True).fit(X, y)\n",
    "plot_surface(X, y, clf)"
   ]
  },
  {
   "cell_type": "markdown",
   "metadata": {
    "collapsed": true
   },
   "source": [
    "<h1 align=\"center\">Outliers</h1> "
   ]
  },
  {
   "cell_type": "code",
   "execution_count": 222,
   "metadata": {
    "collapsed": false
   },
   "outputs": [
    {
     "data": {
      "text/plain": [
       "<matplotlib.collections.PathCollection at 0x11115f550>"
      ]
     },
     "execution_count": 222,
     "metadata": {},
     "output_type": "execute_result"
    },
    {
     "data": {
      "image/png": "[encoded data removed]",
      "text/plain": [
       "<matplotlib.figure.Figure at 0x1137b22d0>"
      ]
     },
     "metadata": {},
     "output_type": "display_data"
    }
   ],
   "source": [
    "from matplotlib.colors import ListedColormap\n",
    "indices = clf.out_\n",
    "cmap_light = ListedColormap(['#FFAAAA', '#AAFFAA', '#AAAAFF'])\n",
    "cmap_bold = ListedColormap(['#FF0000', '#00FF00', '#0000FF'])\n",
    "h = 0.2\n",
    "x_min, x_max = X[:, 0].min() - 1, X[:, 0].max() + 1\n",
    "y_min, y_max = X[:, 1].min() - 1, X[:, 1].max() + 1\n",
    "xx, yy = np.meshgrid(np.arange(x_min, x_max, h),\n",
    "                     np.arange(y_min, y_max, h))\n",
    "Z = clf.predict(np.c_[xx.ravel(), yy.ravel()])\n",
    "\n",
    "Z = Z.reshape(xx.shape)\n",
    "plt.figure(figsize=(8, 8))\n",
    "plt.pcolormesh(xx, yy, Z, cmap=cmap_light)\n",
    "plt.scatter(X[indices, 0], X[indices, 1], c=-y[indices], cmap=cmap_bold)"
   ]
  },
  {
   "cell_type": "markdown",
   "metadata": {},
   "source": [
    "<h1 align=\"center\">Adult test</h1> "
   ]
  },
  {
   "cell_type": "code",
   "execution_count": null,
   "metadata": {
    "collapsed": false
   },
   "outputs": [],
   "source": [
    "!sh ./get_data.sh"
   ]
  },
  {
   "cell_type": "code",
   "execution_count": 460,
   "metadata": {
    "collapsed": false
   },
   "outputs": [],
   "source": [
    "adult = pd.read_csv(\n",
    "    './data/adult.data', \n",
    "    names=[\n",
    "        \"Age\", \"Workclass\", \"fnlwgt\", \"Education\", \"Education-Num\", \"Martial Status\",\n",
    "        \"Occupation\", \"Relationship\", \"Race\", \"Sex\", \"Capital Gain\", \"Capital Loss\",\n",
    "        \"Hours per week\", \"Country\", \"Target\"], \n",
    "    header=None, na_values=\"?\")\n",
    "adult = pd.get_dummies(adult)\n",
    "adult[\"Target\"] = adult[\"Target_ >50K\"]"
   ]
  },
  {
   "cell_type": "code",
   "execution_count": 461,
   "metadata": {
    "collapsed": true
   },
   "outputs": [],
   "source": [
    "X, y = adult[adult.columns[:-3]].values, adult[adult.columns[-1]].values\n",
    "y = 2*(y-0.5)"
   ]
  },
  {
   "cell_type": "code",
   "execution_count": 462,
   "metadata": {
    "collapsed": false
   },
   "outputs": [
    {
     "name": "stdout",
     "output_type": "stream",
     "text": [
      "GradientBoostingClassifier score: [ 0.8620785   0.86493459  0.86998986]\n",
      "BinaryBoostingClassifier score: [ 0.84273079  0.84383637  0.8479683 ]\n"
     ]
    }
   ],
   "source": [
    "# Качество с использованием одномерной минимизации\n",
    "sklearn_clf_score = cross_val_score(GradientBoostingClassifier(), X, y)\n",
    "my_clf_score = cross_val_score(BinaryBoostingClassifier(10, optimize_step=True), X, y)\n",
    "print(\"GradientBoostingClassifier score: {}\".format(sklearn_clf_score))\n",
    "print(\"BinaryBoostingClassifier score: {}\".format(my_clf_score))"
   ]
  },
  {
   "cell_type": "code",
   "execution_count": 229,
   "metadata": {
    "collapsed": false
   },
   "outputs": [
    {
     "name": "stdout",
     "output_type": "stream",
     "text": [
      "GradientBoostingClassifier score: [ 0.86217063  0.86493459  0.86998986]\n",
      "BinaryBoostingClassifier score: [ 0.84549475  0.85231251  0.85386529]\n"
     ]
    }
   ],
   "source": [
    "#  Качество с использованием learning_rate=0.5\n",
    "sklearn_clf_score = cross_val_score(GradientBoostingClassifier(), X, y)\n",
    "my_clf_score = cross_val_score(BinaryBoostingClassifier(10, 0.5,optimize_step=False), X, y)\n",
    "print(\"GradientBoostingClassifier score: {}\".format(sklearn_clf_score))\n",
    "print(\"BinaryBoostingClassifier score: {}\".format(my_clf_score))"
   ]
  },
  {
   "cell_type": "code",
   "execution_count": 463,
   "metadata": {
    "collapsed": false
   },
   "outputs": [
    {
     "name": "stdout",
     "output_type": "stream",
     "text": [
      "GradientBoostingClassifier score: [ 0.86217063  0.86493459  0.86989772]\n",
      "BinaryBoostingClassifier score: [ 0.86244702  0.86723788  0.87275408]\n"
     ]
    }
   ],
   "source": [
    "#  Качество с использованием learning_rate=0.5 и 100 деревьями\n",
    "sklearn_clf_score = cross_val_score(GradientBoostingClassifier(), X, y)\n",
    "my_clf_score = cross_val_score(BinaryBoostingClassifier(100, 0.5,optimize_step=False), X, y)\n",
    "print(\"GradientBoostingClassifier score: {}\".format(sklearn_clf_score))\n",
    "print(\"BinaryBoostingClassifier score: {}\".format(my_clf_score))"
   ]
  },
  {
   "cell_type": "markdown",
   "metadata": {},
   "source": [
    "<h1 align=\"center\">Text classification</h1> \n",
    "\n",
    "- Найдите двухклассовый текстовый датасет (в качестве примера sentiment analysis) или возьмите многоклассовый и классифицируйте один класс против остальных\n",
    "- Попробуйте бустинг на решающих деревьях, в качестве фичей используйте tf-idf и svd/random_projection/hashing_trick, что работает лучше? Сравните качество и время работы."
   ]
  },
  {
   "cell_type": "markdown",
   "metadata": {},
   "source": [
    "Возьмем датасет с https://inclass.kaggle.com/c/si650winter11/data. "
   ]
  },
  {
   "cell_type": "code",
   "execution_count": 3,
   "metadata": {
    "collapsed": false
   },
   "outputs": [],
   "source": [
    "import re\n",
    "from sklearn.feature_extraction.text import TfidfVectorizer\n",
    "from sklearn.feature_extraction.text import HashingVectorizer\n",
    "from sklearn.cross_validation import train_test_split\n",
    "from sklearn.metrics import accuracy_score\n",
    "from sklearn.random_projection import GaussianRandomProjection\n",
    "from sklearn.decomposition import TruncatedSVD"
   ]
  },
  {
   "cell_type": "code",
   "execution_count": 241,
   "metadata": {
    "collapsed": false
   },
   "outputs": [],
   "source": [
    "X = np.array([])\n",
    "y = np.array([])\n",
    "with open(\"train.txt\", 'r') as train:\n",
    "    for line in train:\n",
    "        tokens = re.split(r'\\s+', line)\n",
    "        X = np.append(X, \" \".join(tokens[1:]))\n",
    "        y = np.append(y, int(tokens[0]))"
   ]
  },
  {
   "cell_type": "code",
   "execution_count": 242,
   "metadata": {
    "collapsed": true
   },
   "outputs": [],
   "source": [
    "X_train, X_test, y_train, y_test = train_test_split(X, y, test_size=0.3, random_state=42)"
   ]
  },
  {
   "cell_type": "markdown",
   "metadata": {},
   "source": [
    "Результат с фичами tfidf без уменьшения размерности."
   ]
  },
  {
   "cell_type": "code",
   "execution_count": 243,
   "metadata": {
    "collapsed": true
   },
   "outputs": [],
   "source": [
    "vectorizer = TfidfVectorizer()\n",
    "X_train_tfidf = vectorizer.fit_transform(X_train)\n",
    "X_test_tfidf = vectorizer.transform(X_test)"
   ]
  },
  {
   "cell_type": "code",
   "execution_count": 244,
   "metadata": {
    "collapsed": false
   },
   "outputs": [],
   "source": [
    "clf = BinaryBoostingClassifier(100, optimize_step=True)\n",
    "clf = clf.fit(X_train_tfidf, y_train)\n",
    "y_pred_tfidf = clf.predict(X_test_tfidf)\n",
    "tfidf_score = accuracy_score(y_test, y_pred_tfidf)"
   ]
  },
  {
   "cell_type": "code",
   "execution_count": 245,
   "metadata": {
    "collapsed": false
   },
   "outputs": [
    {
     "name": "stdout",
     "output_type": "stream",
     "text": [
      "0.573377234243\n"
     ]
    }
   ],
   "source": [
    "print(tfidf_score)"
   ]
  },
  {
   "cell_type": "markdown",
   "metadata": {},
   "source": [
    "Результат с фичами hashing vectorizer без уменьшения размерности."
   ]
  },
  {
   "cell_type": "code",
   "execution_count": 246,
   "metadata": {
    "collapsed": false
   },
   "outputs": [],
   "source": [
    "vectorizer = HashingVectorizer()\n",
    "X_train_hash = vectorizer.fit_transform(X_train)\n",
    "X_test_hash = vectorizer.transform(X_test)"
   ]
  },
  {
   "cell_type": "code",
   "execution_count": 248,
   "metadata": {
    "collapsed": false
   },
   "outputs": [],
   "source": [
    "clf = BinaryBoostingClassifier(100, optimize_step=True)\n",
    "clf = clf.fit(X_train_hash, y_train)\n",
    "y_pred_hash = clf.predict(X_test_hash)\n",
    "hash_score = accuracy_score(y_test, y_pred_hash)"
   ]
  },
  {
   "cell_type": "code",
   "execution_count": 249,
   "metadata": {
    "collapsed": false
   },
   "outputs": [
    {
     "name": "stdout",
     "output_type": "stream",
     "text": [
      "0.573377234243\n"
     ]
    }
   ],
   "source": [
    "print(hash_score)"
   ]
  },
  {
   "cell_type": "markdown",
   "metadata": {},
   "source": [
    "Результат с фичами tfidf с уменьшением размерности с помощью случайных проекций."
   ]
  },
  {
   "cell_type": "code",
   "execution_count": 313,
   "metadata": {
    "collapsed": false
   },
   "outputs": [],
   "source": [
    "transformer = GaussianRandomProjection(13)\n",
    "X_train_tfidf_reduced = transformer.fit_transform(X_train_tfidf)\n",
    "X_test_tfidf_reduced = transformer.transform(X_test_tfidf)"
   ]
  },
  {
   "cell_type": "code",
   "execution_count": 314,
   "metadata": {
    "collapsed": false
   },
   "outputs": [],
   "source": [
    "clf = BinaryBoostingClassifier(100, optimize_step=True)\n",
    "clf = clf.fit(X_train_tfidf_reduced, y_train)\n",
    "y_pred_tfidf_reduced = clf.predict(X_test_tfidf_reduced)\n",
    "tfidf_reduced_score = accuracy_score(y_test, y_pred_tfidf_reduced)"
   ]
  },
  {
   "cell_type": "code",
   "execution_count": 315,
   "metadata": {
    "collapsed": false
   },
   "outputs": [
    {
     "name": "stdout",
     "output_type": "stream",
     "text": [
      "0.590310442145\n"
     ]
    }
   ],
   "source": [
    "print(tfidf_reduced_score)"
   ]
  },
  {
   "cell_type": "markdown",
   "metadata": {},
   "source": [
    "Результат с фичами tfidf с уменьшением размерности с помощью SVD."
   ]
  },
  {
   "cell_type": "code",
   "execution_count": 431,
   "metadata": {
    "collapsed": true
   },
   "outputs": [],
   "source": [
    "transformer = TruncatedSVD(13)\n",
    "X_train_tfidf_reduced2 = transformer.fit_transform(X_train_tfidf)\n",
    "X_test_tfidf_reduced2 = transformer.transform(X_test_tfidf)"
   ]
  },
  {
   "cell_type": "code",
   "execution_count": 432,
   "metadata": {
    "collapsed": true
   },
   "outputs": [],
   "source": [
    "clf = BinaryBoostingClassifier(10, optimize_step=True)\n",
    "clf = clf.fit(X_train_tfidf_reduced2, y_train)\n",
    "y_pred_tfidf_reduced2 = clf.predict(X_test_tfidf_reduced2)\n",
    "tfidf_reduced_score2 = accuracy_score(y_test, y_pred_tfidf_reduced2)"
   ]
  },
  {
   "cell_type": "code",
   "execution_count": 433,
   "metadata": {
    "collapsed": false
   },
   "outputs": [
    {
     "name": "stdout",
     "output_type": "stream",
     "text": [
      "0.584195672625\n"
     ]
    }
   ],
   "source": [
    "print(tfidf_reduced_score2)"
   ]
  },
  {
   "cell_type": "markdown",
   "metadata": {},
   "source": [
    "Результат с фичами hashing vectorizer с уменьшением размерности с помощью случайных проекций."
   ]
  },
  {
   "cell_type": "code",
   "execution_count": 448,
   "metadata": {
    "collapsed": true
   },
   "outputs": [],
   "source": [
    "transformer = GaussianRandomProjection(13)\n",
    "X_train_hash_reduced = transformer.fit_transform(X_train_hash)\n",
    "X_test_hash_reduced = transformer.transform(X_test_hash)"
   ]
  },
  {
   "cell_type": "code",
   "execution_count": 449,
   "metadata": {
    "collapsed": true
   },
   "outputs": [],
   "source": [
    "clf = BinaryBoostingClassifier(100, optimize_step=True)\n",
    "clf = clf.fit(X_train_hash_reduced, y_train)\n",
    "y_pred_hash_reduced = clf.predict(X_test_hash_reduced)\n",
    "hash_reduced_score = accuracy_score(y_test, y_pred_hash_reduced)"
   ]
  },
  {
   "cell_type": "code",
   "execution_count": 450,
   "metadata": {
    "collapsed": false
   },
   "outputs": [
    {
     "name": "stdout",
     "output_type": "stream",
     "text": [
      "0.595014111007\n"
     ]
    }
   ],
   "source": [
    "print(hash_reduced_score)"
   ]
  },
  {
   "cell_type": "markdown",
   "metadata": {},
   "source": [
    "Результат с фичами hashing vectorizer с уменьшением размерности с помощью SVD."
   ]
  },
  {
   "cell_type": "code",
   "execution_count": 454,
   "metadata": {
    "collapsed": true
   },
   "outputs": [],
   "source": [
    "transformer = TruncatedSVD(13)\n",
    "X_train_hash_reduced2 = transformer.fit_transform(X_train_hash)\n",
    "X_test_hash_reduced2 = transformer.transform(X_test_hash)"
   ]
  },
  {
   "cell_type": "code",
   "execution_count": 455,
   "metadata": {
    "collapsed": true
   },
   "outputs": [],
   "source": [
    "clf = BinaryBoostingClassifier(10, optimize_step=True)\n",
    "clf = clf.fit(X_train_hash_reduced2, y_train)\n",
    "y_pred_hash_reduced2 = clf.predict(X_test_hash_reduced2)\n",
    "hash_reduced_score2 = accuracy_score(y_test, y_pred_hash_reduced2)"
   ]
  },
  {
   "cell_type": "code",
   "execution_count": 456,
   "metadata": {
    "collapsed": false
   },
   "outputs": [
    {
     "name": "stdout",
     "output_type": "stream",
     "text": [
      "0.640639698965\n"
     ]
    }
   ],
   "source": [
    "print(hash_reduced_score2)"
   ]
  },
  {
   "cell_type": "markdown",
   "metadata": {},
   "source": [
    "Фичи hashing vectorizer не отличаются от фичей tfidf по accuracy, но с ними медленнее работать.\n",
    "C уменьшением размерности качество возрастает, чуть сильнее оно возрастает у SVD."
   ]
  },
  {
   "cell_type": "markdown",
   "metadata": {},
   "source": [
    "<h1 align=\"center\">Random Forest vs Boosting</h1> "
   ]
  },
  {
   "cell_type": "markdown",
   "metadata": {
    "collapsed": true
   },
   "source": [
    "Подберите 2+ датасета как минимум большой и маленький (не использованных в этом дз) и проведите сравнение random forest и градиентного бустинга, используйте реализации алгоритмов из библиотеки sklearn.\n",
    "\n",
    "- Опишите результаты, почему тот или другой алгоритм на конкретном датасете работает лучше/хуже?\n",
    "- Как вы настраивали гиперпараметры алгоритмов?\n",
    "- Как вы проверяли качество алгоритмов?"
   ]
  },
  {
   "cell_type": "code",
   "execution_count": 4,
   "metadata": {
    "collapsed": true
   },
   "outputs": [],
   "source": [
    "from sklearn.ensemble import RandomForestClassifier\n",
    "from sklearn.datasets import load_iris"
   ]
  },
  {
   "cell_type": "markdown",
   "metadata": {},
   "source": [
    "### Датасет Amazon Fine Food Reviews"
   ]
  },
  {
   "cell_type": "code",
   "execution_count": 12,
   "metadata": {
    "collapsed": false
   },
   "outputs": [],
   "source": [
    "data = pd.read_csv(\"Reviews.csv\")\n",
    "data = data.dropna()\n",
    "X = data['Summary'].values\n",
    "y = data['Score'].values"
   ]
  },
  {
   "cell_type": "code",
   "execution_count": 17,
   "metadata": {
    "collapsed": false
   },
   "outputs": [],
   "source": [
    "X_train, X_test, y_train, y_test = train_test_split(X, y, test_size=0.3)"
   ]
  },
  {
   "cell_type": "code",
   "execution_count": 18,
   "metadata": {
    "collapsed": false
   },
   "outputs": [],
   "source": [
    "vectorizer = TfidfVectorizer(max_features=2000)\n",
    "X_train = vectorizer.fit_transform(X_train)\n",
    "X_test = vectorizer.transform(X_test)"
   ]
  },
  {
   "cell_type": "markdown",
   "metadata": {},
   "source": [
    "Результаты RandomForest:"
   ]
  },
  {
   "cell_type": "code",
   "execution_count": 19,
   "metadata": {
    "collapsed": false
   },
   "outputs": [
    {
     "name": "stdout",
     "output_type": "stream",
     "text": [
      "0.775392320143\n"
     ]
    }
   ],
   "source": [
    "forest = RandomForestClassifier()\n",
    "forest = forest.fit(X_train, y_train)\n",
    "y_pred_forest = forest.predict(X_test)\n",
    "print(accuracy_score(y_pred_forest, y_test))"
   ]
  },
  {
   "cell_type": "markdown",
   "metadata": {},
   "source": [
    "Результаты GradientBoosting:"
   ]
  },
  {
   "cell_type": "code",
   "execution_count": 20,
   "metadata": {
    "collapsed": false
   },
   "outputs": [
    {
     "name": "stdout",
     "output_type": "stream",
     "text": [
      "0.689844244798\n"
     ]
    }
   ],
   "source": [
    "boosting = GradientBoostingClassifier()\n",
    "boosting = boosting.fit(X_train, y_train)\n",
    "y_pred_boost = boosting.predict(X_test.toarray())\n",
    "print(accuracy_score(y_pred_boost, y_test))"
   ]
  },
  {
   "cell_type": "markdown",
   "metadata": {},
   "source": [
    "### Датасет Ирисы Фишера"
   ]
  },
  {
   "cell_type": "code",
   "execution_count": 21,
   "metadata": {
    "collapsed": true
   },
   "outputs": [],
   "source": [
    "data = load_iris()\n",
    "X = data['data']\n",
    "y = data['target']"
   ]
  },
  {
   "cell_type": "code",
   "execution_count": 22,
   "metadata": {
    "collapsed": false
   },
   "outputs": [],
   "source": [
    "X_train, X_test, y_train, y_test = train_test_split(X, y, test_size=0.3)"
   ]
  },
  {
   "cell_type": "markdown",
   "metadata": {},
   "source": [
    "Результаты RandomForest:"
   ]
  },
  {
   "cell_type": "code",
   "execution_count": 23,
   "metadata": {
    "collapsed": false
   },
   "outputs": [
    {
     "name": "stdout",
     "output_type": "stream",
     "text": [
      "0.933333333333\n"
     ]
    }
   ],
   "source": [
    "forest = RandomForestClassifier()\n",
    "forest = forest.fit(X_train, y_train)\n",
    "y_pred_forest = forest.predict(X_test)\n",
    "print(accuracy_score(y_pred_forest, y_test))"
   ]
  },
  {
   "cell_type": "markdown",
   "metadata": {},
   "source": [
    "Результаты GradientBoosting:"
   ]
  },
  {
   "cell_type": "code",
   "execution_count": 25,
   "metadata": {
    "collapsed": false
   },
   "outputs": [
    {
     "name": "stdout",
     "output_type": "stream",
     "text": [
      "0.933333333333\n"
     ]
    }
   ],
   "source": [
    "boosting = GradientBoostingClassifier()\n",
    "boosting = boosting.fit(X_train, y_train)\n",
    "y_pred_boost = boosting.predict(X_test)\n",
    "print(accuracy_score(y_pred_boost, y_test))"
   ]
  },
  {
   "cell_type": "markdown",
   "metadata": {},
   "source": [
    "На маленьком датасете получились одинаковые результаты, т.к признаков было мало. На большом датасете с большим количеством фичей результат лучше у RandomForest. При работе с датасетом Amazon пришлось уменьшить количество фичей, ибо не влезало в память."
   ]
  },
  {
   "cell_type": "markdown",
   "metadata": {
    "collapsed": true
   },
   "source": [
    "<h1 align=\"center\">Bonus part</h1> "
   ]
  },
  {
   "cell_type": "markdown",
   "metadata": {},
   "source": [
    "Это удвоит баллы за дз.\n",
    "\n",
    "- Реализуйте мультиклассовый бустинг -- проверьте на CIFAR10 + SVD\n",
    "- Попробуйте различные функции потерь, придумайте несколько своих, удалось ли обойти логистичискую и экспоненциальную?"
   ]
  },
  {
   "cell_type": "code",
   "execution_count": null,
   "metadata": {
    "collapsed": true
   },
   "outputs": [],
   "source": []
  }
 ],
 "metadata": {
  "kernelspec": {
   "display_name": "Python 2",
   "language": "python",
   "name": "python2"
  },
  "language_info": {
   "codemirror_mode": {
    "name": "ipython",
    "version": 2
   },
   "file_extension": ".py",
   "mimetype": "text/x-python",
   "name": "python",
   "nbconvert_exporter": "python",
   "pygments_lexer": "ipython2",
   "version": "2.7.12"
  }
 },
 "nbformat": 4,
 "nbformat_minor": 0
}
