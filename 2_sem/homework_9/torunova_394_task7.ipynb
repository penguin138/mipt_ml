{
 "cells": [
  {
   "cell_type": "markdown",
   "metadata": {},
   "source": [
    "## Домашнее здание №2 / Link Prediction\n",
    "\n",
    "### Торунова Анастасия / 394\n",
    "\n",
    "----\n",
    "План выполнения домашнего задания:\n",
    "\n",
    "1. Краткий обзор исходных данных\n",
    "2. Генерация дополнительных данных\n",
    "3. Создание матрицы признаков для ребер\n",
    "4. Настройка модели и валидация качества модели\n",
    "5. Отправка результатов в контест на Kaggle"
   ]
  },
  {
   "cell_type": "markdown",
   "metadata": {},
   "source": [
    "----\n",
    "\n",
    "В данном домашнем задании вам предстоит построить классификатор, который бы предсказывал наличие или отсутствие ребра в графе между двумя вершинами. Никакой дополнительной информации о вершинах, кроме ее соседей нет, поэтому вам придется создавать вектор признаков для каждой пары вершин на основе топологии графа.\n",
    "\n",
    "Вершины графа - товары интернет магазина, наличие ребра символизирует высокую частоту совместной покупки данных товаров вместе. Например, если в нашем графе присутствую вершины молоко и хлеб и данные товары часто покупаются вместе, то между данными вершинами будет ребро. Если в нашем графе есть вершины молоко и кроссовки, то между данными вершинами ребра не будет. \n",
    "\n",
    "В данном датасете уровень относительной частоты, по которому решается есть ребро между вершинами или его нет был определен за нас. Сам датасет был получен краулингом сайта Amazon.com в марте 2003 года, парсилась секция \"Люди которые купили данный продукт, также приобретали это...\"\n",
    "\n",
    "Мотивация данного задания: Расширить список блока рекомендаций, за счет товаров которые с высокой вероятность могут оказаться в одной корзине покупателя.\n",
    "\n",
    "----\n",
    "Для создания модели и работы с данными мы будем использовать пакет GraphLab, структуры данных SFrame и SGraph идеально подходят для работы с графами. Распределенное хранение данных и применение функций для расчета метрик отдельных вершин сильно облегчают работу с графом.\n",
    "\n",
    "Библиотека платная, но лицензия для академических целей получается в течение 5 минут, чтобы установить пакет следуйте шагам на сайте - https://turi.com/download/academic.html\n",
    "\n",
    "----"
   ]
  },
  {
   "cell_type": "markdown",
   "metadata": {},
   "source": [
    "Описание файлов:\n",
    "\n",
    "1. the_graph.csv - файл содержащий ребра графа, две колонки: src,dst \n",
    "2. suspicions.csv - файл с ребрами, графа. Для данных ребер неизвестно присутствует ли оно в графе или нет.\n",
    "\n",
    "Описание целевой метрики - в качестве целевой метрики будем использовать ROC AUC http://mlwiki.org/index.php/ROC_Analysis"
   ]
  },
  {
   "cell_type": "markdown",
   "metadata": {},
   "source": [
    "----"
   ]
  },
  {
   "cell_type": "code",
   "execution_count": 11,
   "metadata": {
    "collapsed": false
   },
   "outputs": [],
   "source": [
    "import graphlab as gl\n",
    "import numpy as np\n",
    "import pandas as pd\n",
    "from collections import defaultdict, deque\n",
    "import matplotlib.pyplot as plt\n",
    "% matplotlib inline\n",
    "\n",
    "gl.canvas.set_target('ipynb')"
   ]
  },
  {
   "cell_type": "markdown",
   "metadata": {},
   "source": [
    "### 1. Краткий обзор исходных данных - 10 Баллов\n",
    "\n",
    "Загрузим данные, найдем ряд базовых статистик:\n",
    "\n",
    "1. Количество вершин и ребер\n",
    "2. Распределение степеней вершин графа (График log - log)\n",
    "3. Плотность графа\n",
    "4. Диаметр графа\n",
    "5. Количество треугольников в графе\n",
    "6. Краткие выводы о данных.\n",
    "7. БОНУСЫ - сделайте красивую визулизацию или расчет дополнительных метрик с выводами и вы получите дополнительные баллы за задание"
   ]
  },
  {
   "cell_type": "code",
   "execution_count": 12,
   "metadata": {
    "collapsed": false
   },
   "outputs": [],
   "source": [
    "edges = gl.SFrame.read_csv('the_graph.csv', delimiter=',', verbose=False)"
   ]
  },
  {
   "cell_type": "code",
   "execution_count": 13,
   "metadata": {
    "collapsed": true
   },
   "outputs": [],
   "source": [
    "g = gl.SGraph().add_edges(edges, src_field='src', dst_field='dst')"
   ]
  },
  {
   "cell_type": "markdown",
   "metadata": {},
   "source": [
    "1. Количество вершин и ребер"
   ]
  },
  {
   "cell_type": "code",
   "execution_count": 14,
   "metadata": {
    "collapsed": false
   },
   "outputs": [
    {
     "name": "stdout",
     "output_type": "stream",
     "text": [
      "Number of vertices = 262111\n",
      "Number of edges = 1384871\n"
     ]
    }
   ],
   "source": [
    "vert_edgs = g.summary()\n",
    "\n",
    "print 'Number of vertices = {0}'.format(vert_edgs['num_vertices'])\n",
    "print 'Number of edges = {0}'.format(vert_edgs['num_edges'])"
   ]
  },
  {
   "cell_type": "markdown",
   "metadata": {},
   "source": [
    "Выполните пункты 2 - 6. В пункте 6 напишите краткие выводы."
   ]
  },
  {
   "cell_type": "markdown",
   "metadata": {},
   "source": [
    "2.Распределение степеней вершин графа"
   ]
  },
  {
   "cell_type": "code",
   "execution_count": 15,
   "metadata": {
    "collapsed": false
   },
   "outputs": [
    {
     "name": "stdout",
     "output_type": "stream",
     "text": [
      "0\n",
      "1000\n",
      "2000\n",
      "3000\n",
      "4000\n",
      "5000\n",
      "6000\n",
      "7000\n",
      "8000\n",
      "9000\n",
      "10000\n",
      "11000\n",
      "12000\n",
      "13000\n",
      "14000\n",
      "15000\n",
      "16000\n",
      "17000\n",
      "18000\n",
      "19000\n",
      "20000\n",
      "21000\n",
      "22000\n",
      "23000\n",
      "24000\n",
      "25000\n",
      "26000\n",
      "27000\n",
      "28000\n",
      "29000\n",
      "30000\n",
      "31000\n",
      "32000\n",
      "33000\n",
      "34000\n",
      "35000\n",
      "36000\n",
      "37000\n",
      "38000\n",
      "39000\n",
      "40000\n",
      "41000\n",
      "42000\n",
      "43000\n",
      "44000\n",
      "45000\n",
      "46000\n",
      "47000\n",
      "48000\n",
      "49000\n",
      "50000\n",
      "51000\n",
      "52000\n",
      "53000\n",
      "54000\n",
      "55000\n",
      "56000\n",
      "57000\n",
      "58000\n",
      "59000\n",
      "60000\n",
      "61000\n",
      "62000\n",
      "63000\n",
      "64000\n",
      "65000\n",
      "66000\n",
      "67000\n",
      "68000\n",
      "69000\n",
      "70000\n",
      "71000\n",
      "72000\n",
      "73000\n",
      "74000\n",
      "75000\n",
      "76000\n",
      "77000\n",
      "78000\n",
      "79000\n",
      "80000\n",
      "81000\n",
      "82000\n",
      "83000\n",
      "84000\n",
      "85000\n",
      "86000\n",
      "87000\n",
      "88000\n",
      "89000\n",
      "90000\n",
      "91000\n",
      "92000\n",
      "93000\n",
      "94000\n",
      "95000\n",
      "96000\n",
      "97000\n",
      "98000\n",
      "99000\n",
      "100000\n",
      "101000\n",
      "102000\n",
      "103000\n",
      "104000\n",
      "105000\n",
      "106000\n",
      "107000\n",
      "108000\n",
      "109000\n",
      "110000\n",
      "111000\n",
      "112000\n",
      "113000\n",
      "114000\n",
      "115000\n",
      "116000\n",
      "117000\n",
      "118000\n",
      "119000\n",
      "120000\n",
      "121000\n",
      "122000\n",
      "123000\n",
      "124000\n",
      "125000\n",
      "126000\n",
      "127000\n",
      "128000\n",
      "129000\n",
      "130000\n",
      "131000\n",
      "132000\n",
      "133000\n",
      "134000\n",
      "135000\n",
      "136000\n",
      "137000\n",
      "138000\n",
      "139000\n",
      "140000\n",
      "141000\n",
      "142000\n",
      "143000\n",
      "144000\n",
      "145000\n",
      "146000\n",
      "147000\n",
      "148000\n",
      "149000\n",
      "150000\n",
      "151000\n",
      "152000\n",
      "153000\n",
      "154000\n",
      "155000\n",
      "156000\n",
      "157000\n",
      "158000\n",
      "159000\n",
      "160000\n",
      "161000\n",
      "162000\n",
      "163000\n",
      "164000\n",
      "165000\n",
      "166000\n",
      "167000\n",
      "168000\n",
      "169000\n",
      "170000\n",
      "171000\n",
      "172000\n",
      "173000\n",
      "174000\n",
      "175000\n",
      "176000\n",
      "177000\n",
      "178000\n",
      "179000\n",
      "180000\n",
      "181000\n",
      "182000\n",
      "183000\n",
      "184000\n",
      "185000\n",
      "186000\n",
      "187000\n",
      "188000\n",
      "189000\n",
      "190000\n",
      "191000\n",
      "192000\n",
      "193000\n",
      "194000\n",
      "195000\n",
      "196000\n",
      "197000\n",
      "198000\n",
      "199000\n",
      "200000\n",
      "201000\n",
      "202000\n",
      "203000\n",
      "204000\n",
      "205000\n",
      "206000\n",
      "207000\n",
      "208000\n",
      "209000\n",
      "210000\n",
      "211000\n",
      "212000\n",
      "213000\n",
      "214000\n",
      "215000\n",
      "216000\n",
      "217000\n",
      "218000\n",
      "219000\n",
      "220000\n",
      "221000\n",
      "222000\n",
      "223000\n",
      "224000\n",
      "225000\n",
      "226000\n",
      "227000\n",
      "228000\n",
      "229000\n",
      "230000\n",
      "231000\n",
      "232000\n",
      "233000\n",
      "234000\n",
      "235000\n",
      "236000\n",
      "237000\n",
      "238000\n",
      "239000\n",
      "240000\n",
      "241000\n",
      "242000\n",
      "243000\n",
      "244000\n",
      "245000\n",
      "246000\n",
      "247000\n",
      "248000\n",
      "249000\n",
      "250000\n",
      "251000\n",
      "252000\n",
      "253000\n",
      "254000\n",
      "255000\n",
      "256000\n",
      "257000\n",
      "258000\n",
      "259000\n",
      "260000\n",
      "261000\n",
      "262000\n",
      "263000\n",
      "264000\n",
      "265000\n",
      "266000\n",
      "267000\n",
      "268000\n",
      "269000\n",
      "270000\n",
      "271000\n",
      "272000\n",
      "273000\n",
      "274000\n",
      "275000\n",
      "276000\n",
      "277000\n",
      "278000\n",
      "279000\n",
      "280000\n",
      "281000\n",
      "282000\n",
      "283000\n",
      "284000\n",
      "285000\n",
      "286000\n",
      "287000\n",
      "288000\n",
      "289000\n",
      "290000\n",
      "291000\n",
      "292000\n",
      "293000\n",
      "294000\n",
      "295000\n",
      "296000\n",
      "297000\n",
      "298000\n",
      "299000\n",
      "300000\n",
      "301000\n",
      "302000\n",
      "303000\n",
      "304000\n",
      "305000\n",
      "306000\n",
      "307000\n",
      "308000\n",
      "309000\n",
      "310000\n",
      "311000\n",
      "312000\n",
      "313000\n",
      "314000\n",
      "315000\n",
      "316000\n",
      "317000\n",
      "318000\n",
      "319000\n",
      "320000\n",
      "321000\n",
      "322000\n",
      "323000\n",
      "324000\n",
      "325000\n",
      "326000\n",
      "327000\n",
      "328000\n",
      "329000\n",
      "330000\n",
      "331000\n",
      "332000\n",
      "333000\n",
      "334000\n",
      "335000\n",
      "336000\n",
      "337000\n",
      "338000\n",
      "339000\n",
      "340000\n",
      "341000\n",
      "342000\n",
      "343000\n",
      "344000\n",
      "345000\n",
      "346000\n",
      "347000\n",
      "348000\n",
      "349000\n",
      "350000\n",
      "351000\n",
      "352000\n",
      "353000\n",
      "354000\n",
      "355000\n",
      "356000\n",
      "357000\n",
      "358000\n",
      "359000\n",
      "360000\n",
      "361000\n",
      "362000\n",
      "363000\n",
      "364000\n",
      "365000\n",
      "366000\n",
      "367000\n",
      "368000\n",
      "369000\n",
      "370000\n",
      "371000\n",
      "372000\n",
      "373000\n",
      "374000\n",
      "375000\n",
      "376000\n",
      "377000\n",
      "378000\n",
      "379000\n",
      "380000\n",
      "381000\n",
      "382000\n",
      "383000\n",
      "384000\n",
      "385000\n",
      "386000\n",
      "387000\n",
      "388000\n",
      "389000\n",
      "390000\n",
      "391000\n",
      "392000\n",
      "393000\n",
      "394000\n",
      "395000\n",
      "396000\n",
      "397000\n",
      "398000\n",
      "399000\n",
      "400000\n",
      "401000\n",
      "402000\n",
      "403000\n",
      "404000\n",
      "405000\n",
      "406000\n",
      "407000\n",
      "408000\n",
      "409000\n",
      "410000\n",
      "411000\n",
      "412000\n",
      "413000\n",
      "414000\n",
      "415000\n",
      "416000\n",
      "417000\n",
      "418000\n",
      "419000\n",
      "420000\n",
      "421000\n",
      "422000\n",
      "423000\n",
      "424000\n",
      "425000\n",
      "426000\n",
      "427000\n",
      "428000\n",
      "429000\n",
      "430000\n",
      "431000\n",
      "432000\n",
      "433000\n",
      "434000\n",
      "435000\n",
      "436000\n",
      "437000\n",
      "438000\n",
      "439000\n",
      "440000\n",
      "441000\n",
      "442000\n",
      "443000\n",
      "444000\n",
      "445000\n",
      "446000\n",
      "447000\n",
      "448000\n",
      "449000\n",
      "450000\n",
      "451000\n",
      "452000\n",
      "453000\n",
      "454000\n",
      "455000\n",
      "456000\n",
      "457000\n",
      "458000\n",
      "459000\n",
      "460000\n",
      "461000\n",
      "462000\n",
      "463000\n",
      "464000\n",
      "465000\n",
      "466000\n",
      "467000\n",
      "468000\n",
      "469000\n",
      "470000\n",
      "471000\n",
      "472000\n",
      "473000\n",
      "474000\n",
      "475000\n",
      "476000\n",
      "477000\n",
      "478000\n",
      "479000\n",
      "480000\n",
      "481000\n",
      "482000\n",
      "483000\n",
      "484000\n",
      "485000\n",
      "486000\n",
      "487000\n",
      "488000\n",
      "489000\n",
      "490000\n",
      "491000\n",
      "492000\n",
      "493000\n",
      "494000\n",
      "495000\n",
      "496000\n",
      "497000\n",
      "498000\n",
      "499000\n",
      "500000\n",
      "501000\n",
      "502000\n",
      "503000\n",
      "504000\n",
      "505000\n",
      "506000\n",
      "507000\n",
      "508000\n",
      "509000\n",
      "510000\n",
      "511000\n",
      "512000\n",
      "513000\n",
      "514000\n",
      "515000\n",
      "516000\n",
      "517000\n",
      "518000\n",
      "519000\n",
      "520000\n",
      "521000\n",
      "522000\n",
      "523000\n",
      "524000\n",
      "525000\n",
      "526000\n",
      "527000\n",
      "528000\n",
      "529000\n",
      "530000\n",
      "531000\n",
      "532000\n",
      "533000\n",
      "534000\n",
      "535000\n",
      "536000\n",
      "537000\n",
      "538000\n",
      "539000\n",
      "540000\n",
      "541000\n",
      "542000\n",
      "543000\n",
      "544000\n",
      "545000\n",
      "546000\n",
      "547000\n",
      "548000\n",
      "549000\n",
      "550000\n",
      "551000\n",
      "552000\n",
      "553000\n",
      "554000\n",
      "555000\n",
      "556000\n",
      "557000\n",
      "558000\n",
      "559000\n",
      "560000\n",
      "561000\n",
      "562000\n",
      "563000\n",
      "564000\n",
      "565000\n",
      "566000\n",
      "567000\n",
      "568000\n",
      "569000\n",
      "570000\n",
      "571000\n",
      "572000\n",
      "573000\n",
      "574000\n",
      "575000\n",
      "576000\n",
      "577000\n",
      "578000\n",
      "579000\n",
      "580000\n",
      "581000\n",
      "582000\n",
      "583000\n",
      "584000\n",
      "585000\n",
      "586000\n",
      "587000\n",
      "588000\n",
      "589000\n",
      "590000\n",
      "591000\n",
      "592000\n",
      "593000\n",
      "594000\n",
      "595000\n",
      "596000\n",
      "597000\n",
      "598000\n",
      "599000\n",
      "600000\n",
      "601000\n",
      "602000\n",
      "603000\n",
      "604000\n",
      "605000\n",
      "606000\n",
      "607000\n",
      "608000\n",
      "609000\n",
      "610000\n",
      "611000\n",
      "612000\n",
      "613000\n",
      "614000\n",
      "615000\n",
      "616000\n",
      "617000\n",
      "618000\n",
      "619000\n",
      "620000\n",
      "621000\n",
      "622000\n",
      "623000\n",
      "624000\n",
      "625000\n",
      "626000\n",
      "627000\n",
      "628000\n",
      "629000\n",
      "630000\n",
      "631000\n",
      "632000\n",
      "633000\n",
      "634000\n",
      "635000\n",
      "636000\n",
      "637000\n",
      "638000\n",
      "639000\n",
      "640000\n",
      "641000\n",
      "642000\n",
      "643000\n",
      "644000\n",
      "645000\n",
      "646000\n",
      "647000\n",
      "648000\n",
      "649000\n",
      "650000\n",
      "651000\n",
      "652000\n",
      "653000\n",
      "654000\n",
      "655000\n",
      "656000\n",
      "657000\n",
      "658000\n",
      "659000\n",
      "660000\n",
      "661000\n",
      "662000\n",
      "663000\n",
      "664000\n",
      "665000\n",
      "666000\n",
      "667000\n",
      "668000\n",
      "669000\n",
      "670000\n",
      "671000\n",
      "672000\n",
      "673000\n",
      "674000\n",
      "675000\n",
      "676000\n",
      "677000\n",
      "678000\n",
      "679000\n",
      "680000\n",
      "681000\n",
      "682000\n",
      "683000\n",
      "684000\n",
      "685000\n",
      "686000\n",
      "687000\n",
      "688000\n",
      "689000\n",
      "690000\n",
      "691000\n",
      "692000\n",
      "693000\n",
      "694000\n",
      "695000\n",
      "696000\n",
      "697000\n",
      "698000\n",
      "699000\n",
      "700000\n",
      "701000\n",
      "702000\n",
      "703000\n",
      "704000\n",
      "705000\n",
      "706000\n",
      "707000\n",
      "708000\n",
      "709000\n",
      "710000\n",
      "711000\n",
      "712000\n",
      "713000\n",
      "714000\n",
      "715000\n",
      "716000\n",
      "717000\n",
      "718000\n",
      "719000\n",
      "720000\n",
      "721000\n",
      "722000\n",
      "723000\n",
      "724000\n",
      "725000\n",
      "726000\n",
      "727000\n",
      "728000\n",
      "729000\n",
      "730000\n",
      "731000\n",
      "732000\n",
      "733000\n",
      "734000\n",
      "735000\n",
      "736000\n",
      "737000\n",
      "738000\n",
      "739000\n",
      "740000\n",
      "741000\n",
      "742000\n",
      "743000\n",
      "744000\n",
      "745000\n",
      "746000\n",
      "747000\n",
      "748000\n",
      "749000\n",
      "750000\n",
      "751000\n",
      "752000\n",
      "753000\n",
      "754000\n",
      "755000\n",
      "756000\n",
      "757000\n",
      "758000\n",
      "759000\n",
      "760000\n",
      "761000\n",
      "762000\n",
      "763000\n",
      "764000\n",
      "765000\n",
      "766000\n",
      "767000\n",
      "768000\n",
      "769000\n",
      "770000\n",
      "771000\n",
      "772000\n",
      "773000\n",
      "774000\n",
      "775000\n",
      "776000\n",
      "777000\n",
      "778000\n",
      "779000\n",
      "780000\n",
      "781000\n",
      "782000\n",
      "783000\n",
      "784000\n",
      "785000\n",
      "786000\n",
      "787000\n",
      "788000\n",
      "789000\n",
      "790000\n",
      "791000\n",
      "792000\n",
      "793000\n",
      "794000\n",
      "795000\n",
      "796000\n",
      "797000\n",
      "798000\n",
      "799000\n",
      "800000\n",
      "801000\n",
      "802000\n",
      "803000\n",
      "804000\n",
      "805000\n",
      "806000\n",
      "807000\n",
      "808000\n",
      "809000\n",
      "810000\n",
      "811000\n",
      "812000\n",
      "813000\n",
      "814000\n",
      "815000\n",
      "816000\n",
      "817000\n",
      "818000\n",
      "819000\n",
      "820000\n",
      "821000\n",
      "822000\n",
      "823000\n",
      "824000\n",
      "825000\n",
      "826000\n",
      "827000\n",
      "828000\n",
      "829000\n",
      "830000\n",
      "831000\n",
      "832000\n",
      "833000\n",
      "834000\n",
      "835000\n",
      "836000\n",
      "837000\n",
      "838000\n",
      "839000\n",
      "840000\n",
      "841000\n",
      "842000\n",
      "843000\n",
      "844000\n",
      "845000\n",
      "846000\n",
      "847000\n",
      "848000\n",
      "849000\n",
      "850000\n",
      "851000\n",
      "852000\n",
      "853000\n",
      "854000\n",
      "855000\n",
      "856000\n",
      "857000\n",
      "858000\n",
      "859000\n",
      "860000\n",
      "861000\n",
      "862000\n",
      "863000\n",
      "864000\n",
      "865000\n",
      "866000\n",
      "867000\n",
      "868000\n",
      "869000\n",
      "870000\n",
      "871000\n",
      "872000\n",
      "873000\n",
      "874000\n",
      "875000\n",
      "876000\n",
      "877000\n",
      "878000\n",
      "879000\n",
      "880000\n",
      "881000\n",
      "882000\n",
      "883000\n",
      "884000\n",
      "885000\n",
      "886000\n",
      "887000\n",
      "888000\n",
      "889000\n",
      "890000\n",
      "891000\n",
      "892000\n",
      "893000\n",
      "894000\n",
      "895000\n",
      "896000\n",
      "897000\n",
      "898000\n",
      "899000\n",
      "900000\n",
      "901000\n",
      "902000\n",
      "903000\n",
      "904000\n",
      "905000\n",
      "906000\n",
      "907000\n",
      "908000\n",
      "909000\n",
      "910000\n",
      "911000\n",
      "912000\n",
      "913000\n",
      "914000\n",
      "915000\n",
      "916000\n",
      "917000\n",
      "918000\n",
      "919000\n",
      "920000\n",
      "921000\n",
      "922000\n",
      "923000\n",
      "924000\n",
      "925000\n",
      "926000\n",
      "927000\n",
      "928000\n",
      "929000\n",
      "930000\n",
      "931000\n",
      "932000\n",
      "933000\n",
      "934000\n",
      "935000\n",
      "936000\n",
      "937000\n",
      "938000\n",
      "939000\n",
      "940000\n",
      "941000\n",
      "942000\n",
      "943000\n",
      "944000\n",
      "945000\n",
      "946000\n",
      "947000\n",
      "948000\n",
      "949000\n",
      "950000\n",
      "951000\n",
      "952000\n",
      "953000\n",
      "954000\n",
      "955000\n",
      "956000\n",
      "957000\n",
      "958000\n",
      "959000\n",
      "960000\n",
      "961000\n",
      "962000\n",
      "963000\n",
      "964000\n",
      "965000\n",
      "966000\n",
      "967000\n",
      "968000\n",
      "969000\n",
      "970000\n",
      "971000\n",
      "972000\n",
      "973000\n",
      "974000\n",
      "975000\n",
      "976000\n",
      "977000\n",
      "978000\n",
      "979000\n",
      "980000\n",
      "981000\n",
      "982000\n",
      "983000\n",
      "984000\n",
      "985000\n",
      "986000\n",
      "987000\n",
      "988000\n",
      "989000\n",
      "990000\n",
      "991000\n",
      "992000\n",
      "993000\n",
      "994000\n",
      "995000\n",
      "996000\n",
      "997000\n",
      "998000\n",
      "999000\n",
      "1000000\n",
      "1001000\n",
      "1002000\n",
      "1003000\n",
      "1004000\n",
      "1005000\n",
      "1006000\n",
      "1007000\n",
      "1008000\n",
      "1009000\n",
      "1010000\n",
      "1011000\n",
      "1012000\n",
      "1013000\n",
      "1014000\n",
      "1015000\n",
      "1016000\n",
      "1017000\n",
      "1018000\n",
      "1019000\n",
      "1020000\n",
      "1021000\n",
      "1022000\n",
      "1023000\n",
      "1024000\n",
      "1025000\n",
      "1026000\n",
      "1027000\n",
      "1028000\n",
      "1029000\n",
      "1030000\n",
      "1031000\n",
      "1032000\n",
      "1033000\n",
      "1034000\n",
      "1035000\n",
      "1036000\n",
      "1037000\n",
      "1038000\n",
      "1039000\n",
      "1040000\n",
      "1041000\n",
      "1042000\n",
      "1043000\n",
      "1044000\n",
      "1045000\n",
      "1046000\n",
      "1047000\n",
      "1048000\n",
      "1049000\n",
      "1050000\n",
      "1051000\n",
      "1052000\n",
      "1053000\n",
      "1054000\n",
      "1055000\n",
      "1056000\n",
      "1057000\n",
      "1058000\n",
      "1059000\n",
      "1060000\n",
      "1061000\n",
      "1062000\n",
      "1063000\n",
      "1064000\n",
      "1065000\n",
      "1066000\n",
      "1067000\n",
      "1068000\n",
      "1069000\n",
      "1070000\n",
      "1071000\n",
      "1072000\n",
      "1073000\n",
      "1074000\n",
      "1075000\n",
      "1076000\n",
      "1077000\n",
      "1078000\n",
      "1079000\n",
      "1080000\n",
      "1081000\n",
      "1082000\n",
      "1083000\n",
      "1084000\n",
      "1085000\n",
      "1086000\n",
      "1087000\n",
      "1088000\n",
      "1089000\n",
      "1090000\n",
      "1091000\n",
      "1092000\n",
      "1093000\n",
      "1094000\n",
      "1095000\n",
      "1096000\n",
      "1097000\n",
      "1098000\n",
      "1099000\n",
      "1100000\n",
      "1101000\n",
      "1102000\n",
      "1103000\n",
      "1104000\n",
      "1105000\n",
      "1106000\n",
      "1107000\n",
      "1108000\n",
      "1109000\n",
      "1110000\n",
      "1111000\n",
      "1112000\n",
      "1113000\n",
      "1114000\n",
      "1115000\n",
      "1116000\n",
      "1117000\n",
      "1118000\n",
      "1119000\n",
      "1120000\n",
      "1121000\n",
      "1122000\n",
      "1123000\n",
      "1124000\n",
      "1125000\n",
      "1126000\n",
      "1127000\n",
      "1128000\n",
      "1129000\n",
      "1130000\n",
      "1131000\n",
      "1132000\n",
      "1133000\n",
      "1134000\n",
      "1135000\n",
      "1136000\n",
      "1137000\n",
      "1138000\n",
      "1139000\n",
      "1140000\n",
      "1141000\n",
      "1142000\n",
      "1143000\n",
      "1144000\n",
      "1145000\n",
      "1146000\n",
      "1147000\n",
      "1148000\n",
      "1149000\n",
      "1150000\n",
      "1151000\n",
      "1152000\n",
      "1153000\n",
      "1154000\n",
      "1155000\n",
      "1156000\n",
      "1157000\n",
      "1158000\n",
      "1159000\n",
      "1160000\n",
      "1161000\n",
      "1162000\n",
      "1163000\n",
      "1164000\n",
      "1165000\n",
      "1166000\n",
      "1167000\n",
      "1168000\n",
      "1169000\n",
      "1170000\n",
      "1171000\n",
      "1172000\n",
      "1173000\n",
      "1174000\n",
      "1175000\n",
      "1176000\n",
      "1177000\n",
      "1178000\n",
      "1179000\n",
      "1180000\n",
      "1181000\n",
      "1182000\n",
      "1183000\n",
      "1184000\n",
      "1185000\n",
      "1186000\n",
      "1187000\n",
      "1188000\n",
      "1189000\n",
      "1190000\n",
      "1191000\n",
      "1192000\n",
      "1193000\n",
      "1194000\n",
      "1195000\n",
      "1196000\n",
      "1197000\n",
      "1198000\n",
      "1199000\n",
      "1200000\n",
      "1201000\n",
      "1202000\n",
      "1203000\n",
      "1204000\n",
      "1205000\n",
      "1206000\n",
      "1207000\n",
      "1208000\n",
      "1209000\n",
      "1210000\n",
      "1211000\n",
      "1212000\n",
      "1213000\n",
      "1214000\n",
      "1215000\n",
      "1216000\n",
      "1217000\n",
      "1218000\n",
      "1219000\n",
      "1220000\n",
      "1221000\n",
      "1222000\n",
      "1223000\n",
      "1224000\n",
      "1225000\n",
      "1226000\n",
      "1227000\n",
      "1228000\n",
      "1229000\n",
      "1230000\n",
      "1231000\n",
      "1232000\n",
      "1233000\n",
      "1234000\n",
      "1235000\n",
      "1236000\n",
      "1237000\n",
      "1238000\n",
      "1239000\n",
      "1240000\n",
      "1241000\n",
      "1242000\n",
      "1243000\n",
      "1244000\n",
      "1245000\n",
      "1246000\n",
      "1247000\n",
      "1248000\n",
      "1249000\n",
      "1250000\n",
      "1251000\n",
      "1252000\n",
      "1253000\n",
      "1254000\n",
      "1255000\n",
      "1256000\n",
      "1257000\n",
      "1258000\n",
      "1259000\n",
      "1260000\n",
      "1261000\n",
      "1262000\n",
      "1263000\n",
      "1264000\n",
      "1265000\n",
      "1266000\n",
      "1267000\n",
      "1268000\n",
      "1269000\n",
      "1270000\n",
      "1271000\n",
      "1272000\n",
      "1273000\n",
      "1274000\n",
      "1275000\n",
      "1276000\n",
      "1277000\n",
      "1278000\n",
      "1279000\n",
      "1280000\n",
      "1281000\n",
      "1282000\n",
      "1283000\n",
      "1284000\n",
      "1285000\n",
      "1286000\n",
      "1287000\n",
      "1288000\n",
      "1289000\n",
      "1290000\n",
      "1291000\n",
      "1292000\n",
      "1293000\n",
      "1294000\n",
      "1295000\n",
      "1296000\n",
      "1297000\n",
      "1298000\n",
      "1299000\n",
      "1300000\n",
      "1301000\n",
      "1302000\n",
      "1303000\n",
      "1304000\n",
      "1305000\n",
      "1306000\n",
      "1307000\n",
      "1308000\n",
      "1309000\n",
      "1310000\n",
      "1311000\n",
      "1312000\n",
      "1313000\n",
      "1314000\n",
      "1315000\n",
      "1316000\n",
      "1317000\n",
      "1318000\n",
      "1319000\n",
      "1320000\n",
      "1321000\n",
      "1322000\n",
      "1323000\n",
      "1324000\n",
      "1325000\n",
      "1326000\n",
      "1327000\n",
      "1328000\n",
      "1329000\n",
      "1330000\n",
      "1331000\n",
      "1332000\n",
      "1333000\n",
      "1334000\n",
      "1335000\n",
      "1336000\n",
      "1337000\n",
      "1338000\n",
      "1339000\n",
      "1340000\n",
      "1341000\n",
      "1342000\n",
      "1343000\n",
      "1344000\n",
      "1345000\n",
      "1346000\n",
      "1347000\n",
      "1348000\n",
      "1349000\n",
      "1350000\n",
      "1351000\n",
      "1352000\n",
      "1353000\n",
      "1354000\n",
      "1355000\n",
      "1356000\n",
      "1357000\n",
      "1358000\n",
      "1359000\n",
      "1360000\n",
      "1361000\n",
      "1362000\n",
      "1363000\n",
      "1364000\n",
      "1365000\n",
      "1366000\n",
      "1367000\n",
      "1368000\n",
      "1369000\n",
      "1370000\n",
      "1371000\n",
      "1372000\n",
      "1373000\n",
      "1374000\n",
      "1375000\n",
      "1376000\n",
      "1377000\n",
      "1378000\n",
      "1379000\n",
      "1380000\n",
      "1381000\n",
      "1382000\n",
      "1383000\n",
      "1384000\n"
     ]
    }
   ],
   "source": [
    "vertex_degrees = defaultdict(int)\n",
    "for idx, edge in enumerate(edges):\n",
    "    if idx % 1000 == 0:\n",
    "        print(idx)\n",
    "    vertex_degrees[edge['src']] += 1\n",
    "    vertex_degrees[edge['dst']] += 1"
   ]
  },
  {
   "cell_type": "code",
   "execution_count": 16,
   "metadata": {
    "collapsed": false
   },
   "outputs": [
    {
     "data": {
      "image/png": "[encoded data removed]",
      "text/plain": [
       "<matplotlib.figure.Figure at 0x10370cf10>"
      ]
     },
     "metadata": {},
     "output_type": "display_data"
    }
   ],
   "source": [
    "items = np.array(vertex_degrees.items())\n",
    "plt.plot(items[:, 0], items[:, 1])\n",
    "plt.show()"
   ]
  },
  {
   "cell_type": "markdown",
   "metadata": {
    "collapsed": true
   },
   "source": [
    "3.Плотность графа"
   ]
  },
  {
   "cell_type": "code",
   "execution_count": 17,
   "metadata": {
    "collapsed": false
   },
   "outputs": [
    {
     "name": "stdout",
     "output_type": "stream",
     "text": [
      "Density: 4.03153541186e-05\n"
     ]
    }
   ],
   "source": [
    "e = vert_edgs['num_edges']\n",
    "v = vert_edgs['num_vertices']\n",
    "density = 2 * e / float((v * (v - 1)))\n",
    "print('Density: {}'.format(density))"
   ]
  },
  {
   "cell_type": "markdown",
   "metadata": {},
   "source": [
    "4.Диаметр графа"
   ]
  },
  {
   "cell_type": "code",
   "execution_count": 18,
   "metadata": {
    "collapsed": true
   },
   "outputs": [],
   "source": [
    "def bfs(root, adjacent_vertices):\n",
    "    queue = deque()\n",
    "    queue.append(root)\n",
    "    distances = {root: 0}\n",
    "    print 'kek'\n",
    "    counter = 0\n",
    "    while queue:\n",
    "        if counter % 1000 == 0:\n",
    "            print counter\n",
    "        curr_vertex = queue.pop()\n",
    "        for adj_vertex in adjacent_vertices[curr_vertex]:  # edges[edges['src'] == curr_vertex]['dst']:\n",
    "            if adj_vertex not in distances.keys():\n",
    "                queue.append(adj_vertex)\n",
    "                distances[adj_vertex] = distances[curr_vertex] + 1\n",
    "        counter += 1\n",
    "    return distances"
   ]
  },
  {
   "cell_type": "code",
   "execution_count": 19,
   "metadata": {
    "collapsed": false
   },
   "outputs": [
    {
     "name": "stdout",
     "output_type": "stream",
     "text": [
      "Building adjacent vertices dict... Done\n"
     ]
    },
    {
     "ename": "KeyboardInterrupt",
     "evalue": "",
     "output_type": "error",
     "traceback": [
      "\u001b[0;31m---------------------------------------------------------------------------\u001b[0m",
      "\u001b[0;31mKeyboardInterrupt\u001b[0m                         Traceback (most recent call last)",
      "\u001b[0;32m<ipython-input-19-fda51f799257>\u001b[0m in \u001b[0;36m<module>\u001b[0;34m()\u001b[0m\n\u001b[1;32m      5\u001b[0m     \u001b[0madjacent_vertices\u001b[0m\u001b[0;34m[\u001b[0m\u001b[0medge\u001b[0m\u001b[0;34m[\u001b[0m\u001b[0;34m'dst'\u001b[0m\u001b[0;34m]\u001b[0m\u001b[0;34m]\u001b[0m\u001b[0;34m.\u001b[0m\u001b[0mappend\u001b[0m\u001b[0;34m(\u001b[0m\u001b[0medge\u001b[0m\u001b[0;34m[\u001b[0m\u001b[0;34m'src'\u001b[0m\u001b[0;34m]\u001b[0m\u001b[0;34m)\u001b[0m\u001b[0;34m\u001b[0m\u001b[0m\n\u001b[1;32m      6\u001b[0m \u001b[0;32mprint\u001b[0m \u001b[0;34m'Done'\u001b[0m\u001b[0;34m\u001b[0m\u001b[0m\n\u001b[0;32m----> 7\u001b[0;31m \u001b[0mdistances_1\u001b[0m \u001b[0;34m=\u001b[0m \u001b[0mbfs\u001b[0m\u001b[0;34m(\u001b[0m\u001b[0;36m0\u001b[0m\u001b[0;34m,\u001b[0m \u001b[0madjacent_vertices\u001b[0m\u001b[0;34m)\u001b[0m\u001b[0;34m\u001b[0m\u001b[0m\n\u001b[0m",
      "\u001b[0;32m<ipython-input-18-7bf3f731356c>\u001b[0m in \u001b[0;36mbfs\u001b[0;34m(root, adjacent_vertices)\u001b[0m\n\u001b[1;32m      6\u001b[0m         \u001b[0mcurr_vertex\u001b[0m \u001b[0;34m=\u001b[0m \u001b[0mqueue\u001b[0m\u001b[0;34m.\u001b[0m\u001b[0mpop\u001b[0m\u001b[0;34m(\u001b[0m\u001b[0;34m)\u001b[0m\u001b[0;34m\u001b[0m\u001b[0m\n\u001b[1;32m      7\u001b[0m         \u001b[0;32mfor\u001b[0m \u001b[0madj_vertex\u001b[0m \u001b[0;32min\u001b[0m \u001b[0madjacent_vertices\u001b[0m\u001b[0;34m[\u001b[0m\u001b[0mcurr_vertex\u001b[0m\u001b[0;34m]\u001b[0m\u001b[0;34m:\u001b[0m  \u001b[0;31m# edges[edges['src'] == curr_vertex]['dst']:\u001b[0m\u001b[0;34m\u001b[0m\u001b[0m\n\u001b[0;32m----> 8\u001b[0;31m             \u001b[0;32mif\u001b[0m \u001b[0madj_vertex\u001b[0m \u001b[0;32mnot\u001b[0m \u001b[0;32min\u001b[0m \u001b[0mdistances\u001b[0m\u001b[0;34m.\u001b[0m\u001b[0mkeys\u001b[0m\u001b[0;34m(\u001b[0m\u001b[0;34m)\u001b[0m\u001b[0;34m:\u001b[0m\u001b[0;34m\u001b[0m\u001b[0m\n\u001b[0m\u001b[1;32m      9\u001b[0m                 \u001b[0mqueue\u001b[0m\u001b[0;34m.\u001b[0m\u001b[0mappend\u001b[0m\u001b[0;34m(\u001b[0m\u001b[0madj_vertex\u001b[0m\u001b[0;34m)\u001b[0m\u001b[0;34m\u001b[0m\u001b[0m\n\u001b[1;32m     10\u001b[0m                 \u001b[0mdistances\u001b[0m\u001b[0;34m[\u001b[0m\u001b[0madj_vertex\u001b[0m\u001b[0;34m]\u001b[0m \u001b[0;34m=\u001b[0m \u001b[0mdistances\u001b[0m\u001b[0;34m[\u001b[0m\u001b[0mcurr_vertex\u001b[0m\u001b[0;34m]\u001b[0m \u001b[0;34m+\u001b[0m \u001b[0;36m1\u001b[0m\u001b[0;34m\u001b[0m\u001b[0m\n",
      "\u001b[0;31mKeyboardInterrupt\u001b[0m: "
     ]
    }
   ],
   "source": [
    "adjacent_vertices = defaultdict(list)\n",
    "print 'Building adjacent vertices dict...', \n",
    "for edge in edges:\n",
    "    adjacent_vertices[edge['src']].append(edge['dst'])\n",
    "    adjacent_vertices[edge['dst']].append(edge['src'])\n",
    "print 'Done'\n",
    "distances_1 = bfs(0, adjacent_vertices) "
   ]
  },
  {
   "cell_type": "code",
   "execution_count": 10,
   "metadata": {
    "collapsed": false
   },
   "outputs": [
    {
     "ename": "NameError",
     "evalue": "name 'distances' is not defined",
     "output_type": "error",
     "traceback": [
      "\u001b[0;31m---------------------------------------------------------------------------\u001b[0m",
      "\u001b[0;31mNameError\u001b[0m                                 Traceback (most recent call last)",
      "\u001b[0;32m<ipython-input-10-5c6ce844347b>\u001b[0m in \u001b[0;36m<module>\u001b[0;34m()\u001b[0m\n\u001b[0;32m----> 1\u001b[0;31m \u001b[0mlen\u001b[0m\u001b[0;34m(\u001b[0m\u001b[0mdistances\u001b[0m\u001b[0;34m.\u001b[0m\u001b[0mitems\u001b[0m\u001b[0;34m(\u001b[0m\u001b[0;34m)\u001b[0m\u001b[0;34m)\u001b[0m \u001b[0;34m==\u001b[0m \u001b[0mvert_edgs\u001b[0m\u001b[0;34m[\u001b[0m\u001b[0;34m'num_vertices'\u001b[0m\u001b[0;34m]\u001b[0m\u001b[0;34m\u001b[0m\u001b[0m\n\u001b[0m",
      "\u001b[0;31mNameError\u001b[0m: name 'distances' is not defined"
     ]
    }
   ],
   "source": [
    "len(distances.items()) == vert_edgs['num_vertices']"
   ]
  },
  {
   "cell_type": "markdown",
   "metadata": {},
   "source": [
    "----\n",
    "### 2. Генерация дополнительных данных - 20 Баллов\n",
    "\n",
    "Перед нами стоит задача создания модели классификации, которая в дальнейшем будет использоваться для повышения разнообразия блока рекомендаций. Для большинства моделей классификации требуется минимум 2 класса объектов - негативный и позитивный. Но у нас есть только граф, ребра которые в нем присутствуют это позитивные примеры. Получается, что у нас нет негативных примеров. \n",
    "\n",
    "Ответьте на 3 вопроса:\n",
    "\n",
    "1. Можем ли мы сами создать негативные примеры? Граф это описание связей между вершинами, если мы будем случайным образом выбирать две вершины и считать, что это ребро - негативный пример, имеет ли это смысл?\n",
    "2. Если мы решим сгенерировать негативные примеры, как должна быть устроена процедура генерации, чтобы обобщаяющая способность модели была наилучшей?\n",
    "3. Как зависит обобщающая способность модели от негативных примеров, которые мы ей покажем?"
   ]
  },
  {
   "cell_type": "markdown",
   "metadata": {},
   "source": []
  },
  {
   "cell_type": "markdown",
   "metadata": {},
   "source": [
    "------\n",
    "Создадим класс отрицательных примеров, сгенерировав его самым простым образом: берем две вершины, если ребро между ними отсутствует в графе, то это отрицательный пример.\n",
    "\n",
    "1. Попробуйте улучшить генерацию отрицательных примеров"
   ]
  },
  {
   "cell_type": "code",
   "execution_count": 6,
   "metadata": {
    "collapsed": false
   },
   "outputs": [
    {
     "name": "stdout",
     "output_type": "stream",
     "text": [
      "1384871\n"
     ]
    }
   ],
   "source": [
    "# read in existing edges\n",
    "graph_file = open('the_graph.csv')\n",
    "graph_file.readline() # first line is column names\n",
    "existing_edges = set()\n",
    "\n",
    "for x in graph_file:\n",
    "    start, end = x.split(',')\n",
    "    start, end = int(start), int(end)\n",
    "    existing_edges.add((start, end))\n",
    "    \n",
    "print len(existing_edges)"
   ]
  },
  {
   "cell_type": "code",
   "execution_count": 7,
   "metadata": {
    "collapsed": false
   },
   "outputs": [
    {
     "name": "stdout",
     "output_type": "stream",
     "text": [
      "1384841\n"
     ]
    }
   ],
   "source": [
    "# generating negative examples, so that class balance is 50/50 \n",
    "generated_nonexisting_edges = []\n",
    "counter = 0\n",
    "while True:\n",
    "    start = np.random.randint(0, vert_edgs['num_vertices'])\n",
    "    end = np.random.randint(0, vert_edgs['num_vertices'])\n",
    "    \n",
    "    if (start != end) & ((start, end) not in existing_edges):\n",
    "        generated_nonexisting_edges.append([start, end, 0])\n",
    "        \n",
    "    counter += 1\n",
    "    if counter == vert_edgs['num_edges']:\n",
    "        break\n",
    "\n",
    "print len(generated_nonexisting_edges)"
   ]
  },
  {
   "cell_type": "code",
   "execution_count": 8,
   "metadata": {
    "collapsed": false
   },
   "outputs": [],
   "source": [
    "# create SFrame with negative examples\n",
    "generated_nonexisting_edges = pd.DataFrame(data=generated_nonexisting_edges, columns=['src', 'dst', 'class'])\n",
    "generated_nonexisting_edges = gl.SFrame(data=generated_nonexisting_edges)"
   ]
  },
  {
   "cell_type": "code",
   "execution_count": 9,
   "metadata": {
    "collapsed": true
   },
   "outputs": [],
   "source": [
    "# add target function to the original dataset \n",
    "edges['class'] = [1]*edges.shape[0]"
   ]
  },
  {
   "cell_type": "code",
   "execution_count": 10,
   "metadata": {
    "collapsed": false
   },
   "outputs": [],
   "source": [
    "# add negative examples to the main data and shuffle\n",
    "edges = edges.append(generated_nonexisting_edges)\n",
    "edges = gl.cross_validation.shuffle(edges)"
   ]
  },
  {
   "cell_type": "code",
   "execution_count": 11,
   "metadata": {
    "collapsed": false
   },
   "outputs": [],
   "source": [
    "# update our graph g with fake edges\n",
    "g = gl.SGraph().add_edges(edges, src_field='src', dst_field='dst')"
   ]
  },
  {
   "cell_type": "code",
   "execution_count": 12,
   "metadata": {
    "collapsed": false
   },
   "outputs": [
    {
     "name": "stdout",
     "output_type": "stream",
     "text": [
      "Number of vertices = 262111\n",
      "Number of edges = 2769712\n"
     ]
    }
   ],
   "source": [
    "vert_edgs = g.summary()\n",
    "\n",
    "print 'Number of vertices = {0}'.format(vert_edgs['num_vertices'])\n",
    "print 'Number of edges = {0}'.format(vert_edgs['num_edges'])"
   ]
  },
  {
   "cell_type": "code",
   "execution_count": null,
   "metadata": {
    "collapsed": true
   },
   "outputs": [],
   "source": []
  },
  {
   "cell_type": "markdown",
   "metadata": {},
   "source": [
    "----\n",
    "### 3. Создание матрицы признаков для ребер - 30 Баллов\n",
    "\n",
    "Для создания модели классификации нам необходимы признаки, которые описывают каждое ребро. Вот базовый список того, что можно посчитать:\n",
    "\n",
    "Для вершин:\n",
    "\n",
    "1. Список и количество вершин, из которых ребра приходят в данную вершину\n",
    "2. Список и количество вершин, в которые ребра приходят из данной вершины\n",
    "3. Список и количество вершин связанных с данной вершиной\n",
    "4. Список и количество вершин, которые связанны с данной вершиной как входящими, так и исходящими ребрами\n",
    "\n",
    "Также можно добавить: вершины с которыми данная вершина образует треугольники, кластеризовать вершины и использовать кластер данной вершины и др.\n",
    "\n",
    "Придумайте дополнительные интересные признаки для вершин и вы получите дополнительный балл за домашнюю работу!"
   ]
  },
  {
   "cell_type": "code",
   "execution_count": 13,
   "metadata": {
    "collapsed": false
   },
   "outputs": [
    {
     "data": {
      "text/html": [
       "<div style=\"max-height:1000px;max-width:1500px;overflow:auto;\"><table frame=\"box\" rules=\"cols\">\n",
       "    <tr>\n",
       "        <th style=\"padding-left: 1em; padding-right: 1em; text-align: center\">id</th>\n",
       "    </tr>\n",
       "    <tr>\n",
       "        <td style=\"padding-left: 1em; padding-right: 1em; text-align: center; vertical-align: top\">5</td>\n",
       "    </tr>\n",
       "    <tr>\n",
       "        <td style=\"padding-left: 1em; padding-right: 1em; text-align: center; vertical-align: top\">7</td>\n",
       "    </tr>\n",
       "    <tr>\n",
       "        <td style=\"padding-left: 1em; padding-right: 1em; text-align: center; vertical-align: top\">8</td>\n",
       "    </tr>\n",
       "</table>\n",
       "[3 rows x 1 columns]<br/>\n",
       "</div>"
      ],
      "text/plain": [
       "Columns:\n",
       "\tid\tint\n",
       "\n",
       "Rows: 3\n",
       "\n",
       "Data:\n",
       "+----+\n",
       "| id |\n",
       "+----+\n",
       "| 5  |\n",
       "| 7  |\n",
       "| 8  |\n",
       "+----+\n",
       "[3 rows x 1 columns]"
      ]
     },
     "execution_count": 13,
     "metadata": {},
     "output_type": "execute_result"
    }
   ],
   "source": [
    "all_vertices = g.get_vertices()\n",
    "all_vertices.rename({\"__id\": \"id\"}) \n",
    "all_vertices.head(3)"
   ]
  },
  {
   "cell_type": "code",
   "execution_count": 14,
   "metadata": {
    "collapsed": false
   },
   "outputs": [
    {
     "name": "stdout",
     "output_type": "stream",
     "text": [
      "\n"
     ]
    }
   ],
   "source": [
    "# calculating each vertices in and out connections\n",
    "out_vertices = edges.groupby(\"src\", {\"out_vertices\": gl.aggregate.CONCAT(\"dst\")})\n",
    "out_vertices.rename({\"src\": \"id\"})\n",
    "\n",
    "in_vertices = edges.groupby(\"dst\", {\"in_vertices\": gl.aggregate.CONCAT(\"src\")})\n",
    "in_vertices.rename({\"dst\": \"id\"})\n",
    "print "
   ]
  },
  {
   "cell_type": "code",
   "execution_count": 15,
   "metadata": {
    "collapsed": false
   },
   "outputs": [
    {
     "data": {
      "text/html": [
       "<div style=\"max-height:1000px;max-width:1500px;overflow:auto;\"><table frame=\"box\" rules=\"cols\">\n",
       "    <tr>\n",
       "        <th style=\"padding-left: 1em; padding-right: 1em; text-align: center\">id</th>\n",
       "        <th style=\"padding-left: 1em; padding-right: 1em; text-align: center\">out_vertices</th>\n",
       "        <th style=\"padding-left: 1em; padding-right: 1em; text-align: center\">in_vertices</th>\n",
       "    </tr>\n",
       "    <tr>\n",
       "        <td style=\"padding-left: 1em; padding-right: 1em; text-align: center; vertical-align: top\">211023</td>\n",
       "        <td style=\"padding-left: 1em; padding-right: 1em; text-align: center; vertical-align: top\">[125038, 233626, 181032,<br>129442, 172885, 78851, ...</td>\n",
       "        <td style=\"padding-left: 1em; padding-right: 1em; text-align: center; vertical-align: top\">[209072, 233626, 130553,<br>248527, 149114, 198886, ...</td>\n",
       "    </tr>\n",
       "    <tr>\n",
       "        <td style=\"padding-left: 1em; padding-right: 1em; text-align: center; vertical-align: top\">79732</td>\n",
       "        <td style=\"padding-left: 1em; padding-right: 1em; text-align: center; vertical-align: top\">[127247, 81407, 102671,<br>79734, 75040, 83186, ...</td>\n",
       "        <td style=\"padding-left: 1em; padding-right: 1em; text-align: center; vertical-align: top\">[138065, 201679, 103248,<br>83186, 162573, 55606, ...</td>\n",
       "    </tr>\n",
       "    <tr>\n",
       "        <td style=\"padding-left: 1em; padding-right: 1em; text-align: center; vertical-align: top\">7899</td>\n",
       "        <td style=\"padding-left: 1em; padding-right: 1em; text-align: center; vertical-align: top\">[7896, 159251, 205061,<br>172020, 13587, 11624, ...</td>\n",
       "        <td style=\"padding-left: 1em; padding-right: 1em; text-align: center; vertical-align: top\">[8977, 27312, 6150,<br>15258, 212028, 7898, ...</td>\n",
       "    </tr>\n",
       "</table>\n",
       "[3 rows x 3 columns]<br/>\n",
       "</div>"
      ],
      "text/plain": [
       "Columns:\n",
       "\tid\tint\n",
       "\tout_vertices\tlist\n",
       "\tin_vertices\tlist\n",
       "\n",
       "Rows: 3\n",
       "\n",
       "Data:\n",
       "+--------+-------------------------------+-------------------------------+\n",
       "|   id   |          out_vertices         |          in_vertices          |\n",
       "+--------+-------------------------------+-------------------------------+\n",
       "| 211023 | [125038, 233626, 181032, 1... | [209072, 233626, 130553, 2... |\n",
       "| 79732  | [127247, 81407, 102671, 79... | [138065, 201679, 103248, 8... |\n",
       "|  7899  | [7896, 159251, 205061, 172... | [8977, 27312, 6150, 15258,... |\n",
       "+--------+-------------------------------+-------------------------------+\n",
       "[3 rows x 3 columns]"
      ]
     },
     "execution_count": 15,
     "metadata": {},
     "output_type": "execute_result"
    }
   ],
   "source": [
    "# join in and out connections with all_vertices\n",
    "all_vertices = all_vertices.join(out_vertices, on=\"id\", how=\"outer\")\n",
    "all_vertices = all_vertices.join(in_vertices, on=\"id\", how=\"outer\")\n",
    "\n",
    "# replace missing values with empty lists\n",
    "all_vertices = all_vertices.fillna('in_vertices',[])\n",
    "all_vertices = all_vertices.fillna('out_vertices',[])\n",
    "all_vertices.head(3)"
   ]
  },
  {
   "cell_type": "markdown",
   "metadata": {},
   "source": [
    "Мы получили базовый набор данных - список входящих и исходящих вершин, для каждой вершины. Теперь найдем количества вершин для метрик 1 и 2. Метрики 3 и 4 вы посчитаете сами"
   ]
  },
  {
   "cell_type": "code",
   "execution_count": 16,
   "metadata": {
    "collapsed": true
   },
   "outputs": [],
   "source": [
    "# in_degree - number of users following each vertex\n",
    "all_vertices['in_degree'] = all_vertices[\"in_vertices\"].apply(lambda x: len(x) )\n",
    "\n",
    "# out_degree - number of users each vertex is following\n",
    "all_vertices['out_degree'] = all_vertices[\"out_vertices\"].apply(lambda x: len(x) )"
   ]
  },
  {
   "cell_type": "code",
   "execution_count": 17,
   "metadata": {
    "collapsed": false
   },
   "outputs": [
    {
     "data": {
      "text/html": [
       "<div style=\"max-height:1000px;max-width:1500px;overflow:auto;\"><table frame=\"box\" rules=\"cols\">\n",
       "    <tr>\n",
       "        <th style=\"padding-left: 1em; padding-right: 1em; text-align: center\">id</th>\n",
       "        <th style=\"padding-left: 1em; padding-right: 1em; text-align: center\">out_vertices</th>\n",
       "        <th style=\"padding-left: 1em; padding-right: 1em; text-align: center\">in_vertices</th>\n",
       "        <th style=\"padding-left: 1em; padding-right: 1em; text-align: center\">in_degree</th>\n",
       "        <th style=\"padding-left: 1em; padding-right: 1em; text-align: center\">out_degree</th>\n",
       "    </tr>\n",
       "    <tr>\n",
       "        <td style=\"padding-left: 1em; padding-right: 1em; text-align: center; vertical-align: top\">211023</td>\n",
       "        <td style=\"padding-left: 1em; padding-right: 1em; text-align: center; vertical-align: top\">[125038, 233626, 181032,<br>129442, 172885, 78851, ...</td>\n",
       "        <td style=\"padding-left: 1em; padding-right: 1em; text-align: center; vertical-align: top\">[209072, 233626, 130553,<br>248527, 149114, 198886, ...</td>\n",
       "        <td style=\"padding-left: 1em; padding-right: 1em; text-align: center; vertical-align: top\">10</td>\n",
       "        <td style=\"padding-left: 1em; padding-right: 1em; text-align: center; vertical-align: top\">14</td>\n",
       "    </tr>\n",
       "    <tr>\n",
       "        <td style=\"padding-left: 1em; padding-right: 1em; text-align: center; vertical-align: top\">79732</td>\n",
       "        <td style=\"padding-left: 1em; padding-right: 1em; text-align: center; vertical-align: top\">[127247, 81407, 102671,<br>79734, 75040, 83186, ...</td>\n",
       "        <td style=\"padding-left: 1em; padding-right: 1em; text-align: center; vertical-align: top\">[138065, 201679, 103248,<br>83186, 162573, 55606, ...</td>\n",
       "        <td style=\"padding-left: 1em; padding-right: 1em; text-align: center; vertical-align: top\">15</td>\n",
       "        <td style=\"padding-left: 1em; padding-right: 1em; text-align: center; vertical-align: top\">8</td>\n",
       "    </tr>\n",
       "    <tr>\n",
       "        <td style=\"padding-left: 1em; padding-right: 1em; text-align: center; vertical-align: top\">7899</td>\n",
       "        <td style=\"padding-left: 1em; padding-right: 1em; text-align: center; vertical-align: top\">[7896, 159251, 205061,<br>172020, 13587, 11624, ...</td>\n",
       "        <td style=\"padding-left: 1em; padding-right: 1em; text-align: center; vertical-align: top\">[8977, 27312, 6150,<br>15258, 212028, 7898, ...</td>\n",
       "        <td style=\"padding-left: 1em; padding-right: 1em; text-align: center; vertical-align: top\">12</td>\n",
       "        <td style=\"padding-left: 1em; padding-right: 1em; text-align: center; vertical-align: top\">10</td>\n",
       "    </tr>\n",
       "</table>\n",
       "[3 rows x 5 columns]<br/>\n",
       "</div>"
      ],
      "text/plain": [
       "Columns:\n",
       "\tid\tint\n",
       "\tout_vertices\tlist\n",
       "\tin_vertices\tlist\n",
       "\tin_degree\tint\n",
       "\tout_degree\tint\n",
       "\n",
       "Rows: 3\n",
       "\n",
       "Data:\n",
       "+--------+-------------------------------+-------------------------------+-----------+\n",
       "|   id   |          out_vertices         |          in_vertices          | in_degree |\n",
       "+--------+-------------------------------+-------------------------------+-----------+\n",
       "| 211023 | [125038, 233626, 181032, 1... | [209072, 233626, 130553, 2... |     10    |\n",
       "| 79732  | [127247, 81407, 102671, 79... | [138065, 201679, 103248, 8... |     15    |\n",
       "|  7899  | [7896, 159251, 205061, 172... | [8977, 27312, 6150, 15258,... |     12    |\n",
       "+--------+-------------------------------+-------------------------------+-----------+\n",
       "+------------+\n",
       "| out_degree |\n",
       "+------------+\n",
       "|     14     |\n",
       "|     8      |\n",
       "|     10     |\n",
       "+------------+\n",
       "[3 rows x 5 columns]"
      ]
     },
     "execution_count": 17,
     "metadata": {},
     "output_type": "execute_result"
    }
   ],
   "source": [
    "all_vertices.head(3)"
   ]
  },
  {
   "cell_type": "markdown",
   "metadata": {},
   "source": [
    "Мы получили характеристики для каждой вершины графа. Так как у нас задача предсказания наличия ребра, мы должны составить описание каждого ребра, используя метрики вершин. После составления характеристик ребер, мы можем перейти к генерации свойств ребер, взяв за основу метрики вершин ребра. Пример метрик для ребер, которые мы можем найти:\n",
    "\n",
    "1. Общие друзья вершин ребра\n",
    "2. Общее количество друзей вершин ребра\n",
    "3. Коэффициенты Жаккара, Пирсона, Адамик - Адара, косинусная мера\n",
    "\n",
    "Данные метрики находятся для каждого списка вершин, пунктов 1 - 4"
   ]
  },
  {
   "cell_type": "code",
   "execution_count": 18,
   "metadata": {
    "collapsed": false
   },
   "outputs": [
    {
     "data": {
      "text/html": [
       "<div style=\"max-height:1000px;max-width:1500px;overflow:auto;\"><table frame=\"box\" rules=\"cols\">\n",
       "    <tr>\n",
       "        <th style=\"padding-left: 1em; padding-right: 1em; text-align: center\">id</th>\n",
       "        <th style=\"padding-left: 1em; padding-right: 1em; text-align: center\">out_vertices</th>\n",
       "        <th style=\"padding-left: 1em; padding-right: 1em; text-align: center\">in_vertices</th>\n",
       "        <th style=\"padding-left: 1em; padding-right: 1em; text-align: center\">in_degree</th>\n",
       "        <th style=\"padding-left: 1em; padding-right: 1em; text-align: center\">out_degree</th>\n",
       "    </tr>\n",
       "    <tr>\n",
       "        <td style=\"padding-left: 1em; padding-right: 1em; text-align: center; vertical-align: top\">211023</td>\n",
       "        <td style=\"padding-left: 1em; padding-right: 1em; text-align: center; vertical-align: top\">[125038, 233626, 181032,<br>129442, 172885, 78851, ...</td>\n",
       "        <td style=\"padding-left: 1em; padding-right: 1em; text-align: center; vertical-align: top\">[209072, 233626, 130553,<br>248527, 149114, 198886, ...</td>\n",
       "        <td style=\"padding-left: 1em; padding-right: 1em; text-align: center; vertical-align: top\">10</td>\n",
       "        <td style=\"padding-left: 1em; padding-right: 1em; text-align: center; vertical-align: top\">14</td>\n",
       "    </tr>\n",
       "    <tr>\n",
       "        <td style=\"padding-left: 1em; padding-right: 1em; text-align: center; vertical-align: top\">79732</td>\n",
       "        <td style=\"padding-left: 1em; padding-right: 1em; text-align: center; vertical-align: top\">[127247, 81407, 102671,<br>79734, 75040, 83186, ...</td>\n",
       "        <td style=\"padding-left: 1em; padding-right: 1em; text-align: center; vertical-align: top\">[138065, 201679, 103248,<br>83186, 162573, 55606, ...</td>\n",
       "        <td style=\"padding-left: 1em; padding-right: 1em; text-align: center; vertical-align: top\">15</td>\n",
       "        <td style=\"padding-left: 1em; padding-right: 1em; text-align: center; vertical-align: top\">8</td>\n",
       "    </tr>\n",
       "    <tr>\n",
       "        <td style=\"padding-left: 1em; padding-right: 1em; text-align: center; vertical-align: top\">7899</td>\n",
       "        <td style=\"padding-left: 1em; padding-right: 1em; text-align: center; vertical-align: top\">[7896, 159251, 205061,<br>172020, 13587, 11624, ...</td>\n",
       "        <td style=\"padding-left: 1em; padding-right: 1em; text-align: center; vertical-align: top\">[8977, 27312, 6150,<br>15258, 212028, 7898, ...</td>\n",
       "        <td style=\"padding-left: 1em; padding-right: 1em; text-align: center; vertical-align: top\">12</td>\n",
       "        <td style=\"padding-left: 1em; padding-right: 1em; text-align: center; vertical-align: top\">10</td>\n",
       "    </tr>\n",
       "    <tr>\n",
       "        <td style=\"padding-left: 1em; padding-right: 1em; text-align: center; vertical-align: top\">25263</td>\n",
       "        <td style=\"padding-left: 1em; padding-right: 1em; text-align: center; vertical-align: top\">[6965, 42350, 42349,<br>19115, 6963, 6961, ...</td>\n",
       "        <td style=\"padding-left: 1em; padding-right: 1em; text-align: center; vertical-align: top\">[42349, 6965, 115573,<br>169357, 261127, 157786, ...</td>\n",
       "        <td style=\"padding-left: 1em; padding-right: 1em; text-align: center; vertical-align: top\">14</td>\n",
       "        <td style=\"padding-left: 1em; padding-right: 1em; text-align: center; vertical-align: top\">9</td>\n",
       "    </tr>\n",
       "    <tr>\n",
       "        <td style=\"padding-left: 1em; padding-right: 1em; text-align: center; vertical-align: top\">87629</td>\n",
       "        <td style=\"padding-left: 1em; padding-right: 1em; text-align: center; vertical-align: top\">[117259, 137137, 4221,<br>117244, 105937, 6873, ...</td>\n",
       "        <td style=\"padding-left: 1em; padding-right: 1em; text-align: center; vertical-align: top\">[92901, 236889, 137136,<br>211256, 183942, 150527, ...</td>\n",
       "        <td style=\"padding-left: 1em; padding-right: 1em; text-align: center; vertical-align: top\">25</td>\n",
       "        <td style=\"padding-left: 1em; padding-right: 1em; text-align: center; vertical-align: top\">10</td>\n",
       "    </tr>\n",
       "    <tr>\n",
       "        <td style=\"padding-left: 1em; padding-right: 1em; text-align: center; vertical-align: top\">43116</td>\n",
       "        <td style=\"padding-left: 1em; padding-right: 1em; text-align: center; vertical-align: top\">[249682, 119313, 43113,<br>8658, 133820, 131188, ...</td>\n",
       "        <td style=\"padding-left: 1em; padding-right: 1em; text-align: center; vertical-align: top\">[43117, 90294, 246688,<br>43113, 78829, 50535, ...</td>\n",
       "        <td style=\"padding-left: 1em; padding-right: 1em; text-align: center; vertical-align: top\">17</td>\n",
       "        <td style=\"padding-left: 1em; padding-right: 1em; text-align: center; vertical-align: top\">13</td>\n",
       "    </tr>\n",
       "    <tr>\n",
       "        <td style=\"padding-left: 1em; padding-right: 1em; text-align: center; vertical-align: top\">144280</td>\n",
       "        <td style=\"padding-left: 1em; padding-right: 1em; text-align: center; vertical-align: top\">[111931, 25249, 22436,<br>248150, 154011, 83567, ...</td>\n",
       "        <td style=\"padding-left: 1em; padding-right: 1em; text-align: center; vertical-align: top\">[124943, 103880, 133530,<br>152258, 4486, 152259] ...</td>\n",
       "        <td style=\"padding-left: 1em; padding-right: 1em; text-align: center; vertical-align: top\">6</td>\n",
       "        <td style=\"padding-left: 1em; padding-right: 1em; text-align: center; vertical-align: top\">14</td>\n",
       "    </tr>\n",
       "    <tr>\n",
       "        <td style=\"padding-left: 1em; padding-right: 1em; text-align: center; vertical-align: top\">238256</td>\n",
       "        <td style=\"padding-left: 1em; padding-right: 1em; text-align: center; vertical-align: top\">[175756, 137742, 19746,<br>242814, 232100, 19654, ...</td>\n",
       "        <td style=\"padding-left: 1em; padding-right: 1em; text-align: center; vertical-align: top\">[249606, 232100, 208524,<br>45568, 135010, 94708, ...</td>\n",
       "        <td style=\"padding-left: 1em; padding-right: 1em; text-align: center; vertical-align: top\">7</td>\n",
       "        <td style=\"padding-left: 1em; padding-right: 1em; text-align: center; vertical-align: top\">12</td>\n",
       "    </tr>\n",
       "    <tr>\n",
       "        <td style=\"padding-left: 1em; padding-right: 1em; text-align: center; vertical-align: top\">62361</td>\n",
       "        <td style=\"padding-left: 1em; padding-right: 1em; text-align: center; vertical-align: top\">[62676, 222504, 220681,<br>128106, 62359, 188876, ...</td>\n",
       "        <td style=\"padding-left: 1em; padding-right: 1em; text-align: center; vertical-align: top\">[118990, 70917, 62359,<br>38016, 148406, 70918, ...</td>\n",
       "        <td style=\"padding-left: 1em; padding-right: 1em; text-align: center; vertical-align: top\">23</td>\n",
       "        <td style=\"padding-left: 1em; padding-right: 1em; text-align: center; vertical-align: top\">14</td>\n",
       "    </tr>\n",
       "    <tr>\n",
       "        <td style=\"padding-left: 1em; padding-right: 1em; text-align: center; vertical-align: top\">5288</td>\n",
       "        <td style=\"padding-left: 1em; padding-right: 1em; text-align: center; vertical-align: top\">[7373, 2769, 9421, 3077,<br>219785, 173588, 227022, ...</td>\n",
       "        <td style=\"padding-left: 1em; padding-right: 1em; text-align: center; vertical-align: top\">[9420, 7375, 7373, 8712,<br>5468, 9421, 1642, 74947, ...</td>\n",
       "        <td style=\"padding-left: 1em; padding-right: 1em; text-align: center; vertical-align: top\">14</td>\n",
       "        <td style=\"padding-left: 1em; padding-right: 1em; text-align: center; vertical-align: top\">8</td>\n",
       "    </tr>\n",
       "</table>\n",
       "[262111 rows x 5 columns]<br/>Note: Only the head of the SFrame is printed.<br/>You can use print_rows(num_rows=m, num_columns=n) to print more rows and columns.\n",
       "</div>"
      ],
      "text/plain": [
       "Columns:\n",
       "\tid\tint\n",
       "\tout_vertices\tlist\n",
       "\tin_vertices\tlist\n",
       "\tin_degree\tint\n",
       "\tout_degree\tint\n",
       "\n",
       "Rows: 262111\n",
       "\n",
       "Data:\n",
       "+--------+-------------------------------+-------------------------------+-----------+\n",
       "|   id   |          out_vertices         |          in_vertices          | in_degree |\n",
       "+--------+-------------------------------+-------------------------------+-----------+\n",
       "| 211023 | [125038, 233626, 181032, 1... | [209072, 233626, 130553, 2... |     10    |\n",
       "| 79732  | [127247, 81407, 102671, 79... | [138065, 201679, 103248, 8... |     15    |\n",
       "|  7899  | [7896, 159251, 205061, 172... | [8977, 27312, 6150, 15258,... |     12    |\n",
       "| 25263  | [6965, 42350, 42349, 19115... | [42349, 6965, 115573, 1693... |     14    |\n",
       "| 87629  | [117259, 137137, 4221, 117... | [92901, 236889, 137136, 21... |     25    |\n",
       "| 43116  | [249682, 119313, 43113, 86... | [43117, 90294, 246688, 431... |     17    |\n",
       "| 144280 | [111931, 25249, 22436, 248... | [124943, 103880, 133530, 1... |     6     |\n",
       "| 238256 | [175756, 137742, 19746, 24... | [249606, 232100, 208524, 4... |     7     |\n",
       "| 62361  | [62676, 222504, 220681, 12... | [118990, 70917, 62359, 380... |     23    |\n",
       "|  5288  | [7373, 2769, 9421, 3077, 2... | [9420, 7375, 7373, 8712, 5... |     14    |\n",
       "+--------+-------------------------------+-------------------------------+-----------+\n",
       "+------------+\n",
       "| out_degree |\n",
       "+------------+\n",
       "|     14     |\n",
       "|     8      |\n",
       "|     10     |\n",
       "|     9      |\n",
       "|     10     |\n",
       "|     13     |\n",
       "|     14     |\n",
       "|     12     |\n",
       "|     14     |\n",
       "|     8      |\n",
       "+------------+\n",
       "[262111 rows x 5 columns]\n",
       "Note: Only the head of the SFrame is printed.\n",
       "You can use print_rows(num_rows=m, num_columns=n) to print more rows and columns."
      ]
     },
     "execution_count": 18,
     "metadata": {},
     "output_type": "execute_result"
    }
   ],
   "source": [
    "all_vertices"
   ]
  },
  {
   "cell_type": "code",
   "execution_count": null,
   "metadata": {
    "collapsed": false
   },
   "outputs": [],
   "source": []
  },
  {
   "cell_type": "code",
   "execution_count": 19,
   "metadata": {
    "collapsed": false
   },
   "outputs": [
    {
     "data": {
      "text/html": [
       "<div style=\"max-height:1000px;max-width:1500px;overflow:auto;\"><table frame=\"box\" rules=\"cols\">\n",
       "    <tr>\n",
       "        <th style=\"padding-left: 1em; padding-right: 1em; text-align: center\">src</th>\n",
       "        <th style=\"padding-left: 1em; padding-right: 1em; text-align: center\">dst</th>\n",
       "        <th style=\"padding-left: 1em; padding-right: 1em; text-align: center\">class</th>\n",
       "        <th style=\"padding-left: 1em; padding-right: 1em; text-align: center\">src_out_vertices</th>\n",
       "        <th style=\"padding-left: 1em; padding-right: 1em; text-align: center\">src_in_vertices</th>\n",
       "        <th style=\"padding-left: 1em; padding-right: 1em; text-align: center\">src_in_degree</th>\n",
       "        <th style=\"padding-left: 1em; padding-right: 1em; text-align: center\">src_out_degree</th>\n",
       "    </tr>\n",
       "    <tr>\n",
       "        <td style=\"padding-left: 1em; padding-right: 1em; text-align: center; vertical-align: top\">36624</td>\n",
       "        <td style=\"padding-left: 1em; padding-right: 1em; text-align: center; vertical-align: top\">235817</td>\n",
       "        <td style=\"padding-left: 1em; padding-right: 1em; text-align: center; vertical-align: top\">1</td>\n",
       "        <td style=\"padding-left: 1em; padding-right: 1em; text-align: center; vertical-align: top\">[235817, 223305, 110712,<br>150452, 253379, 50890, ...</td>\n",
       "        <td style=\"padding-left: 1em; padding-right: 1em; text-align: center; vertical-align: top\">[115542, 177553, 73059,<br>1362, 50891, 87111, ...</td>\n",
       "        <td style=\"padding-left: 1em; padding-right: 1em; text-align: center; vertical-align: top\">10</td>\n",
       "        <td style=\"padding-left: 1em; padding-right: 1em; text-align: center; vertical-align: top\">12</td>\n",
       "    </tr>\n",
       "    <tr>\n",
       "        <td style=\"padding-left: 1em; padding-right: 1em; text-align: center; vertical-align: top\">204849</td>\n",
       "        <td style=\"padding-left: 1em; padding-right: 1em; text-align: center; vertical-align: top\">213833</td>\n",
       "        <td style=\"padding-left: 1em; padding-right: 1em; text-align: center; vertical-align: top\">1</td>\n",
       "        <td style=\"padding-left: 1em; padding-right: 1em; text-align: center; vertical-align: top\">[213833, 195444, 202324,<br>135175, 59343, 195443, ...</td>\n",
       "        <td style=\"padding-left: 1em; padding-right: 1em; text-align: center; vertical-align: top\">[168430, 69415, 229202,<br>213833, 162017, 192699] ...</td>\n",
       "        <td style=\"padding-left: 1em; padding-right: 1em; text-align: center; vertical-align: top\">6</td>\n",
       "        <td style=\"padding-left: 1em; padding-right: 1em; text-align: center; vertical-align: top\">12</td>\n",
       "    </tr>\n",
       "    <tr>\n",
       "        <td style=\"padding-left: 1em; padding-right: 1em; text-align: center; vertical-align: top\">101355</td>\n",
       "        <td style=\"padding-left: 1em; padding-right: 1em; text-align: center; vertical-align: top\">48945</td>\n",
       "        <td style=\"padding-left: 1em; padding-right: 1em; text-align: center; vertical-align: top\">0</td>\n",
       "        <td style=\"padding-left: 1em; padding-right: 1em; text-align: center; vertical-align: top\">[48945, 144461, 212543,<br>88680, 185092, 87440, ...</td>\n",
       "        <td style=\"padding-left: 1em; padding-right: 1em; text-align: center; vertical-align: top\">[28229, 20714, 88679,<br>33725, 105824] ...</td>\n",
       "        <td style=\"padding-left: 1em; padding-right: 1em; text-align: center; vertical-align: top\">5</td>\n",
       "        <td style=\"padding-left: 1em; padding-right: 1em; text-align: center; vertical-align: top\">12</td>\n",
       "    </tr>\n",
       "</table>\n",
       "<table frame=\"box\" rules=\"cols\">\n",
       "    <tr>\n",
       "        <th style=\"padding-left: 1em; padding-right: 1em; text-align: center\">dst_out_vertices</th>\n",
       "        <th style=\"padding-left: 1em; padding-right: 1em; text-align: center\">dst_in_vertices</th>\n",
       "        <th style=\"padding-left: 1em; padding-right: 1em; text-align: center\">dst_in_degree</th>\n",
       "        <th style=\"padding-left: 1em; padding-right: 1em; text-align: center\">dst_out_degree</th>\n",
       "    </tr>\n",
       "    <tr>\n",
       "        <td style=\"padding-left: 1em; padding-right: 1em; text-align: center; vertical-align: top\">[204449, 212887, 245085,<br>41060, 14949, 79192, ...</td>\n",
       "        <td style=\"padding-left: 1em; padding-right: 1em; text-align: center; vertical-align: top\">[36624, 160445, 56532,<br>85226, 237977, 53241, ...</td>\n",
       "        <td style=\"padding-left: 1em; padding-right: 1em; text-align: center; vertical-align: top\">11</td>\n",
       "        <td style=\"padding-left: 1em; padding-right: 1em; text-align: center; vertical-align: top\">14</td>\n",
       "    </tr>\n",
       "    <tr>\n",
       "        <td style=\"padding-left: 1em; padding-right: 1em; text-align: center; vertical-align: top\">[204415, 46244, 253182,<br>146195, 204849, 85618, ...</td>\n",
       "        <td style=\"padding-left: 1em; padding-right: 1em; text-align: center; vertical-align: top\">[204849, 184918, 27826,<br>138699, 66729, 216859, ...</td>\n",
       "        <td style=\"padding-left: 1em; padding-right: 1em; text-align: center; vertical-align: top\">7</td>\n",
       "        <td style=\"padding-left: 1em; padding-right: 1em; text-align: center; vertical-align: top\">10</td>\n",
       "    </tr>\n",
       "    <tr>\n",
       "        <td style=\"padding-left: 1em; padding-right: 1em; text-align: center; vertical-align: top\">[17610, 212149, 35485,<br>210770, 54364, 54361, ...</td>\n",
       "        <td style=\"padding-left: 1em; padding-right: 1em; text-align: center; vertical-align: top\">[101355, 54363, 173623,<br>202622, 129016, 114089, ...</td>\n",
       "        <td style=\"padding-left: 1em; padding-right: 1em; text-align: center; vertical-align: top\">12</td>\n",
       "        <td style=\"padding-left: 1em; padding-right: 1em; text-align: center; vertical-align: top\">9</td>\n",
       "    </tr>\n",
       "</table>\n",
       "[3 rows x 11 columns]<br/>\n",
       "</div>"
      ],
      "text/plain": [
       "Columns:\n",
       "\tsrc\tint\n",
       "\tdst\tint\n",
       "\tclass\tint\n",
       "\tsrc_out_vertices\tlist\n",
       "\tsrc_in_vertices\tlist\n",
       "\tsrc_in_degree\tint\n",
       "\tsrc_out_degree\tint\n",
       "\tdst_out_vertices\tlist\n",
       "\tdst_in_vertices\tlist\n",
       "\tdst_in_degree\tint\n",
       "\tdst_out_degree\tint\n",
       "\n",
       "Rows: 3\n",
       "\n",
       "Data:\n",
       "+--------+--------+-------+-------------------------------+\n",
       "|  src   |  dst   | class |        src_out_vertices       |\n",
       "+--------+--------+-------+-------------------------------+\n",
       "| 36624  | 235817 |   1   | [235817, 223305, 110712, 1... |\n",
       "| 204849 | 213833 |   1   | [213833, 195444, 202324, 1... |\n",
       "| 101355 | 48945  |   0   | [48945, 144461, 212543, 88... |\n",
       "+--------+--------+-------+-------------------------------+\n",
       "+-------------------------------+---------------+----------------+\n",
       "|        src_in_vertices        | src_in_degree | src_out_degree |\n",
       "+-------------------------------+---------------+----------------+\n",
       "| [115542, 177553, 73059, 13... |       10      |       12       |\n",
       "| [168430, 69415, 229202, 21... |       6       |       12       |\n",
       "| [28229, 20714, 88679, 3372... |       5       |       12       |\n",
       "+-------------------------------+---------------+----------------+\n",
       "+-------------------------------+-------------------------------+---------------+\n",
       "|        dst_out_vertices       |        dst_in_vertices        | dst_in_degree |\n",
       "+-------------------------------+-------------------------------+---------------+\n",
       "| [204449, 212887, 245085, 4... | [36624, 160445, 56532, 852... |       11      |\n",
       "| [204415, 46244, 253182, 14... | [204849, 184918, 27826, 13... |       7       |\n",
       "| [17610, 212149, 35485, 210... | [101355, 54363, 173623, 20... |       12      |\n",
       "+-------------------------------+-------------------------------+---------------+\n",
       "+----------------+\n",
       "| dst_out_degree |\n",
       "+----------------+\n",
       "|       14       |\n",
       "|       10       |\n",
       "|       9        |\n",
       "+----------------+\n",
       "[3 rows x 11 columns]"
      ]
     },
     "execution_count": 19,
     "metadata": {},
     "output_type": "execute_result"
    }
   ],
   "source": [
    "edges = edges.join(all_vertices, on={\"src\": \"id\"}, how=\"right\")\n",
    "edges.rename({\"in_vertices\": \"src_in_vertices\", \"out_vertices\": \"src_out_vertices\",\n",
    "                  \"in_degree\": \"src_in_degree\", \"out_degree\": \"src_out_degree\"\n",
    "                 })\n",
    "\n",
    "edges = edges.join(all_vertices, on={\"dst\": \"id\"}, how=\"right\")\n",
    "edges.rename({\"in_vertices\": \"dst_in_vertices\", \"out_vertices\": \"dst_out_vertices\",\n",
    "                  \"in_degree\": \"dst_in_degree\", \"out_degree\": \"dst_out_degree\"})\n",
    "\n",
    "edges.head(3)"
   ]
  },
  {
   "cell_type": "markdown",
   "metadata": {},
   "source": [
    "Найдем пункт 1 - общих друзей для списков вершин из пункта 1. Пункты 2 и 3 вы посчитаете самостоятельно"
   ]
  },
  {
   "cell_type": "code",
   "execution_count": 20,
   "metadata": {
    "collapsed": true
   },
   "outputs": [],
   "source": [
    "def common_friends(u, v, u_neighbors, v_neighbors):\n",
    "    u_neighbors = set(u_neighbors)\n",
    "    if v in u_neighbors:\n",
    "            u_neighbors.remove(v)\n",
    "\n",
    "    v_neighbors = set(v_neighbors)\n",
    "    if u in v_neighbors:\n",
    "        v_neighbors.remove(u)\n",
    "        \n",
    "    return len(u_neighbors & v_neighbors)"
   ]
  },
  {
   "cell_type": "code",
   "execution_count": 21,
   "metadata": {
    "collapsed": false
   },
   "outputs": [],
   "source": [
    "edges['common_in_vertices'] = (edges[['src','dst', 'src_in_vertices', 'dst_in_vertices']]\n",
    "                               .apply(lambda x: common_friends(x['src'], x['dst'],x['src_in_vertices'], x['dst_in_vertices'])))"
   ]
  },
  {
   "cell_type": "code",
   "execution_count": null,
   "metadata": {
    "collapsed": false
   },
   "outputs": [],
   "source": []
  },
  {
   "cell_type": "markdown",
   "metadata": {},
   "source": [
    "Результатом пункта 3 является матрица признаков. Теперь мы готовы занятся настройкой моделей. Главная ваша задача в пункте 3 - подготовить как можно больше качественных признаков, которые могли бы использоваться для настройки модели машинного обучения."
   ]
  },
  {
   "cell_type": "markdown",
   "metadata": {},
   "source": [
    "----\n",
    "### 4. Настройка модели и валидация качества модели - 20 Баллов\n",
    "\n",
    "Исключим подозрительные ребра из рассмотрения, а затем разобьем датасет на 2 части, для обучения и проверки результатов. Настроим базовую модель классификации - логистическую регрессию.\n",
    "Для улучшения качества модели вам предстоит выполнить следующие пункты:\n",
    "\n",
    "1. Кросс - валидация для настройки гиперпараметров модели и регуляризации\n",
    "2. Подбор модели машинного обучения (случайный лес, бустинг, нейронная сеть и т.д.)"
   ]
  },
  {
   "cell_type": "code",
   "execution_count": 22,
   "metadata": {
    "collapsed": false
   },
   "outputs": [
    {
     "name": "stdout",
     "output_type": "stream",
     "text": [
      "(299994, 3)\n"
     ]
    }
   ],
   "source": [
    "susp = gl.SFrame.read_csv('suspicions.csv', delimiter=',', verbose=False)\n",
    "print susp.shape"
   ]
  },
  {
   "cell_type": "code",
   "execution_count": 23,
   "metadata": {
    "collapsed": false
   },
   "outputs": [
    {
     "name": "stdout",
     "output_type": "stream",
     "text": [
      "(2769712, 12)\n",
      "(2769712, 13)\n"
     ]
    }
   ],
   "source": [
    "print edges.shape\n",
    "edges = edges.join(susp, on=['src', 'dst'], how='left')\n",
    "print edges.shape"
   ]
  },
  {
   "cell_type": "code",
   "execution_count": 24,
   "metadata": {
    "collapsed": false
   },
   "outputs": [
    {
     "name": "stdout",
     "output_type": "stream",
     "text": [
      "(2469718, 13) (299994, 13)\n"
     ]
    }
   ],
   "source": [
    "clean_edges = edges[edges['edge_id'] == None]\n",
    "susp_edges = edges[edges['edge_id'] != None]\n",
    "print clean_edges.shape, susp_edges.shape"
   ]
  },
  {
   "cell_type": "code",
   "execution_count": 25,
   "metadata": {
    "collapsed": false
   },
   "outputs": [
    {
     "name": "stdout",
     "output_type": "stream",
     "text": [
      "\n"
     ]
    }
   ],
   "source": [
    "clean_edges.remove_column('edge_id')\n",
    "print"
   ]
  },
  {
   "cell_type": "code",
   "execution_count": 26,
   "metadata": {
    "collapsed": false
   },
   "outputs": [
    {
     "data": {
      "text/html": [
       "<div style=\"max-height:1000px;max-width:1500px;overflow:auto;\"><table frame=\"box\" rules=\"cols\">\n",
       "    <tr>\n",
       "        <th style=\"padding-left: 1em; padding-right: 1em; text-align: center\">src</th>\n",
       "        <th style=\"padding-left: 1em; padding-right: 1em; text-align: center\">dst</th>\n",
       "        <th style=\"padding-left: 1em; padding-right: 1em; text-align: center\">class</th>\n",
       "        <th style=\"padding-left: 1em; padding-right: 1em; text-align: center\">src_out_vertices</th>\n",
       "        <th style=\"padding-left: 1em; padding-right: 1em; text-align: center\">src_in_vertices</th>\n",
       "        <th style=\"padding-left: 1em; padding-right: 1em; text-align: center\">src_in_degree</th>\n",
       "        <th style=\"padding-left: 1em; padding-right: 1em; text-align: center\">src_out_degree</th>\n",
       "    </tr>\n",
       "    <tr>\n",
       "        <td style=\"padding-left: 1em; padding-right: 1em; text-align: center; vertical-align: top\">101355</td>\n",
       "        <td style=\"padding-left: 1em; padding-right: 1em; text-align: center; vertical-align: top\">48945</td>\n",
       "        <td style=\"padding-left: 1em; padding-right: 1em; text-align: center; vertical-align: top\">0</td>\n",
       "        <td style=\"padding-left: 1em; padding-right: 1em; text-align: center; vertical-align: top\">[48945, 144461, 212543,<br>88680, 185092, 87440, ...</td>\n",
       "        <td style=\"padding-left: 1em; padding-right: 1em; text-align: center; vertical-align: top\">[28229, 20714, 88679,<br>33725, 105824] ...</td>\n",
       "        <td style=\"padding-left: 1em; padding-right: 1em; text-align: center; vertical-align: top\">5</td>\n",
       "        <td style=\"padding-left: 1em; padding-right: 1em; text-align: center; vertical-align: top\">12</td>\n",
       "    </tr>\n",
       "    <tr>\n",
       "        <td style=\"padding-left: 1em; padding-right: 1em; text-align: center; vertical-align: top\">46194</td>\n",
       "        <td style=\"padding-left: 1em; padding-right: 1em; text-align: center; vertical-align: top\">185867</td>\n",
       "        <td style=\"padding-left: 1em; padding-right: 1em; text-align: center; vertical-align: top\">0</td>\n",
       "        <td style=\"padding-left: 1em; padding-right: 1em; text-align: center; vertical-align: top\">[185867, 75042, 46193,<br>184234, 37313, 75043, ...</td>\n",
       "        <td style=\"padding-left: 1em; padding-right: 1em; text-align: center; vertical-align: top\">[31625, 191284, 73421,<br>108368, 37313, 44419, ...</td>\n",
       "        <td style=\"padding-left: 1em; padding-right: 1em; text-align: center; vertical-align: top\">13</td>\n",
       "        <td style=\"padding-left: 1em; padding-right: 1em; text-align: center; vertical-align: top\">7</td>\n",
       "    </tr>\n",
       "    <tr>\n",
       "        <td style=\"padding-left: 1em; padding-right: 1em; text-align: center; vertical-align: top\">224536</td>\n",
       "        <td style=\"padding-left: 1em; padding-right: 1em; text-align: center; vertical-align: top\">206071</td>\n",
       "        <td style=\"padding-left: 1em; padding-right: 1em; text-align: center; vertical-align: top\">1</td>\n",
       "        <td style=\"padding-left: 1em; padding-right: 1em; text-align: center; vertical-align: top\">[206071, 218520, 161,<br>162477, 49, 97, 255996, ...</td>\n",
       "        <td style=\"padding-left: 1em; padding-right: 1em; text-align: center; vertical-align: top\">[206071, 189583, 226504,<br>257630, 19535, 148538, ...</td>\n",
       "        <td style=\"padding-left: 1em; padding-right: 1em; text-align: center; vertical-align: top\">8</td>\n",
       "        <td style=\"padding-left: 1em; padding-right: 1em; text-align: center; vertical-align: top\">12</td>\n",
       "    </tr>\n",
       "</table>\n",
       "<table frame=\"box\" rules=\"cols\">\n",
       "    <tr>\n",
       "        <th style=\"padding-left: 1em; padding-right: 1em; text-align: center\">dst_out_vertices</th>\n",
       "        <th style=\"padding-left: 1em; padding-right: 1em; text-align: center\">dst_in_vertices</th>\n",
       "        <th style=\"padding-left: 1em; padding-right: 1em; text-align: center\">dst_in_degree</th>\n",
       "        <th style=\"padding-left: 1em; padding-right: 1em; text-align: center\">dst_out_degree</th>\n",
       "        <th style=\"padding-left: 1em; padding-right: 1em; text-align: center\">common_in_vertices</th>\n",
       "    </tr>\n",
       "    <tr>\n",
       "        <td style=\"padding-left: 1em; padding-right: 1em; text-align: center; vertical-align: top\">[17610, 212149, 35485,<br>210770, 54364, 54361, ...</td>\n",
       "        <td style=\"padding-left: 1em; padding-right: 1em; text-align: center; vertical-align: top\">[101355, 54363, 173623,<br>202622, 129016, 114089, ...</td>\n",
       "        <td style=\"padding-left: 1em; padding-right: 1em; text-align: center; vertical-align: top\">12</td>\n",
       "        <td style=\"padding-left: 1em; padding-right: 1em; text-align: center; vertical-align: top\">9</td>\n",
       "        <td style=\"padding-left: 1em; padding-right: 1em; text-align: center; vertical-align: top\">0</td>\n",
       "    </tr>\n",
       "    <tr>\n",
       "        <td style=\"padding-left: 1em; padding-right: 1em; text-align: center; vertical-align: top\">[43157, 207398, 104024,<br>124881, 24417, 34990, ...</td>\n",
       "        <td style=\"padding-left: 1em; padding-right: 1em; text-align: center; vertical-align: top\">[46194, 117192, 189506,<br>158306, 170121, 33607, ...</td>\n",
       "        <td style=\"padding-left: 1em; padding-right: 1em; text-align: center; vertical-align: top\">8</td>\n",
       "        <td style=\"padding-left: 1em; padding-right: 1em; text-align: center; vertical-align: top\">10</td>\n",
       "        <td style=\"padding-left: 1em; padding-right: 1em; text-align: center; vertical-align: top\">0</td>\n",
       "    </tr>\n",
       "    <tr>\n",
       "        <td style=\"padding-left: 1em; padding-right: 1em; text-align: center; vertical-align: top\">[215731, 224536, 174005,<br>150055, 36787, 47886, ...</td>\n",
       "        <td style=\"padding-left: 1em; padding-right: 1em; text-align: center; vertical-align: top\">[224536, 224537, 164200,<br>54418, 108445, 174005, ...</td>\n",
       "        <td style=\"padding-left: 1em; padding-right: 1em; text-align: center; vertical-align: top\">7</td>\n",
       "        <td style=\"padding-left: 1em; padding-right: 1em; text-align: center; vertical-align: top\">10</td>\n",
       "        <td style=\"padding-left: 1em; padding-right: 1em; text-align: center; vertical-align: top\">0</td>\n",
       "    </tr>\n",
       "</table>\n",
       "[3 rows x 12 columns]<br/>\n",
       "</div>"
      ],
      "text/plain": [
       "Columns:\n",
       "\tsrc\tint\n",
       "\tdst\tint\n",
       "\tclass\tint\n",
       "\tsrc_out_vertices\tlist\n",
       "\tsrc_in_vertices\tlist\n",
       "\tsrc_in_degree\tint\n",
       "\tsrc_out_degree\tint\n",
       "\tdst_out_vertices\tlist\n",
       "\tdst_in_vertices\tlist\n",
       "\tdst_in_degree\tint\n",
       "\tdst_out_degree\tint\n",
       "\tcommon_in_vertices\tint\n",
       "\n",
       "Rows: 3\n",
       "\n",
       "Data:\n",
       "+--------+--------+-------+-------------------------------+\n",
       "|  src   |  dst   | class |        src_out_vertices       |\n",
       "+--------+--------+-------+-------------------------------+\n",
       "| 101355 | 48945  |   0   | [48945, 144461, 212543, 88... |\n",
       "| 46194  | 185867 |   0   | [185867, 75042, 46193, 184... |\n",
       "| 224536 | 206071 |   1   | [206071, 218520, 161, 1624... |\n",
       "+--------+--------+-------+-------------------------------+\n",
       "+-------------------------------+---------------+----------------+\n",
       "|        src_in_vertices        | src_in_degree | src_out_degree |\n",
       "+-------------------------------+---------------+----------------+\n",
       "| [28229, 20714, 88679, 3372... |       5       |       12       |\n",
       "| [31625, 191284, 73421, 108... |       13      |       7        |\n",
       "| [206071, 189583, 226504, 2... |       8       |       12       |\n",
       "+-------------------------------+---------------+----------------+\n",
       "+-------------------------------+-------------------------------+---------------+\n",
       "|        dst_out_vertices       |        dst_in_vertices        | dst_in_degree |\n",
       "+-------------------------------+-------------------------------+---------------+\n",
       "| [17610, 212149, 35485, 210... | [101355, 54363, 173623, 20... |       12      |\n",
       "| [43157, 207398, 104024, 12... | [46194, 117192, 189506, 15... |       8       |\n",
       "| [215731, 224536, 174005, 1... | [224536, 224537, 164200, 5... |       7       |\n",
       "+-------------------------------+-------------------------------+---------------+\n",
       "+----------------+--------------------+\n",
       "| dst_out_degree | common_in_vertices |\n",
       "+----------------+--------------------+\n",
       "|       9        |         0          |\n",
       "|       10       |         0          |\n",
       "|       10       |         0          |\n",
       "+----------------+--------------------+\n",
       "[3 rows x 12 columns]"
      ]
     },
     "execution_count": 26,
     "metadata": {},
     "output_type": "execute_result"
    }
   ],
   "source": [
    "clean_edges.head(3)"
   ]
  },
  {
   "cell_type": "code",
   "execution_count": 35,
   "metadata": {
    "collapsed": true
   },
   "outputs": [],
   "source": [
    "# split on train and test\n",
    "test, train = clean_edges.random_split(0.2)"
   ]
  },
  {
   "cell_type": "code",
   "execution_count": 37,
   "metadata": {
    "collapsed": false
   },
   "outputs": [
    {
     "name": "stdout",
     "output_type": "stream",
     "text": [
      "(493512, 12) (1976206, 12)\n"
     ]
    }
   ],
   "source": [
    "print test.shape, train.shape"
   ]
  },
  {
   "cell_type": "code",
   "execution_count": 38,
   "metadata": {
    "collapsed": false,
    "scrolled": false
   },
   "outputs": [
    {
     "name": "stdout",
     "output_type": "stream",
     "text": [
      "PROGRESS: Creating a validation set from 5 percent of training data. This may take a while.\n",
      "          You can set ``validation_set=None`` to disable validation tracking.\n",
      "\n"
     ]
    },
    {
     "data": {
      "text/html": [
       "<pre>Logistic regression:</pre>"
      ],
      "text/plain": [
       "Logistic regression:"
      ]
     },
     "metadata": {},
     "output_type": "display_data"
    },
    {
     "data": {
      "text/html": [
       "<pre>--------------------------------------------------------</pre>"
      ],
      "text/plain": [
       "--------------------------------------------------------"
      ]
     },
     "metadata": {},
     "output_type": "display_data"
    },
    {
     "data": {
      "text/html": [
       "<pre>Number of examples          : 1877268</pre>"
      ],
      "text/plain": [
       "Number of examples          : 1877268"
      ]
     },
     "metadata": {},
     "output_type": "display_data"
    },
    {
     "data": {
      "text/html": [
       "<pre>Number of classes           : 2</pre>"
      ],
      "text/plain": [
       "Number of classes           : 2"
      ]
     },
     "metadata": {},
     "output_type": "display_data"
    },
    {
     "data": {
      "text/html": [
       "<pre>Number of feature columns   : 11</pre>"
      ],
      "text/plain": [
       "Number of feature columns   : 11"
      ]
     },
     "metadata": {},
     "output_type": "display_data"
    },
    {
     "data": {
      "text/html": [
       "<pre>Number of unpacked features : 11</pre>"
      ],
      "text/plain": [
       "Number of unpacked features : 11"
      ]
     },
     "metadata": {},
     "output_type": "display_data"
    },
    {
     "data": {
      "text/html": [
       "<pre>Number of coefficients    : 1048419</pre>"
      ],
      "text/plain": [
       "Number of coefficients    : 1048419"
      ]
     },
     "metadata": {},
     "output_type": "display_data"
    },
    {
     "data": {
      "text/html": [
       "<pre>Starting L-BFGS</pre>"
      ],
      "text/plain": [
       "Starting L-BFGS"
      ]
     },
     "metadata": {},
     "output_type": "display_data"
    },
    {
     "data": {
      "text/html": [
       "<pre>--------------------------------------------------------</pre>"
      ],
      "text/plain": [
       "--------------------------------------------------------"
      ]
     },
     "metadata": {},
     "output_type": "display_data"
    },
    {
     "data": {
      "text/html": [
       "<pre>+-----------+----------+-----------+--------------+-------------------+---------------------+</pre>"
      ],
      "text/plain": [
       "+-----------+----------+-----------+--------------+-------------------+---------------------+"
      ]
     },
     "metadata": {},
     "output_type": "display_data"
    },
    {
     "data": {
      "text/html": [
       "<pre>| Iteration | Passes   | Step size | Elapsed Time | Training-accuracy | Validation-accuracy |</pre>"
      ],
      "text/plain": [
       "| Iteration | Passes   | Step size | Elapsed Time | Training-accuracy | Validation-accuracy |"
      ]
     },
     "metadata": {},
     "output_type": "display_data"
    },
    {
     "data": {
      "text/html": [
       "<pre>+-----------+----------+-----------+--------------+-------------------+---------------------+</pre>"
      ],
      "text/plain": [
       "+-----------+----------+-----------+--------------+-------------------+---------------------+"
      ]
     },
     "metadata": {},
     "output_type": "display_data"
    },
    {
     "data": {
      "text/html": [
       "<pre>| 1         | 4        | 0.000000  | 10.419121    | 0.613062          | 0.603651            |</pre>"
      ],
      "text/plain": [
       "| 1         | 4        | 0.000000  | 10.419121    | 0.613062          | 0.603651            |"
      ]
     },
     "metadata": {},
     "output_type": "display_data"
    },
    {
     "data": {
      "text/html": [
       "<pre>| 2         | 6        | 1.000000  | 17.326750    | 0.708492          | 0.638238            |</pre>"
      ],
      "text/plain": [
       "| 2         | 6        | 1.000000  | 17.326750    | 0.708492          | 0.638238            |"
      ]
     },
     "metadata": {},
     "output_type": "display_data"
    },
    {
     "data": {
      "text/html": [
       "<pre>| 3         | 7        | 1.000000  | 21.600158    | 0.732180          | 0.642877            |</pre>"
      ],
      "text/plain": [
       "| 3         | 7        | 1.000000  | 21.600158    | 0.732180          | 0.642877            |"
      ]
     },
     "metadata": {},
     "output_type": "display_data"
    },
    {
     "data": {
      "text/html": [
       "<pre>| 4         | 8        | 1.000000  | 25.620888    | 0.765225          | 0.644161            |</pre>"
      ],
      "text/plain": [
       "| 4         | 8        | 1.000000  | 25.620888    | 0.765225          | 0.644161            |"
      ]
     },
     "metadata": {},
     "output_type": "display_data"
    },
    {
     "data": {
      "text/html": [
       "<pre>| 5         | 9        | 1.000000  | 29.689968    | 0.734595          | 0.646526            |</pre>"
      ],
      "text/plain": [
       "| 5         | 9        | 1.000000  | 29.689968    | 0.734595          | 0.646526            |"
      ]
     },
     "metadata": {},
     "output_type": "display_data"
    },
    {
     "data": {
      "text/html": [
       "<pre>| 6         | 11       | 1.000000  | 36.544376    | 0.783402          | 0.663294            |</pre>"
      ],
      "text/plain": [
       "| 6         | 11       | 1.000000  | 36.544376    | 0.783402          | 0.663294            |"
      ]
     },
     "metadata": {},
     "output_type": "display_data"
    },
    {
     "data": {
      "text/html": [
       "<pre>| 7         | 12       | 1.000000  | 40.992921    | 0.794094          | 0.664113            |</pre>"
      ],
      "text/plain": [
       "| 7         | 12       | 1.000000  | 40.992921    | 0.794094          | 0.664113            |"
      ]
     },
     "metadata": {},
     "output_type": "display_data"
    },
    {
     "data": {
      "text/html": [
       "<pre>| 8         | 13       | 1.000000  | 46.060695    | 0.798794          | 0.663901            |</pre>"
      ],
      "text/plain": [
       "| 8         | 13       | 1.000000  | 46.060695    | 0.798794          | 0.663901            |"
      ]
     },
     "metadata": {},
     "output_type": "display_data"
    },
    {
     "data": {
      "text/html": [
       "<pre>| 9         | 14       | 1.000000  | 50.565929    | 0.812954          | 0.662991            |</pre>"
      ],
      "text/plain": [
       "| 9         | 14       | 1.000000  | 50.565929    | 0.812954          | 0.662991            |"
      ]
     },
     "metadata": {},
     "output_type": "display_data"
    },
    {
     "data": {
      "text/html": [
       "<pre>| 10        | 15       | 1.000000  | 54.652590    | 0.833784          | 0.672836            |</pre>"
      ],
      "text/plain": [
       "| 10        | 15       | 1.000000  | 54.652590    | 0.833784          | 0.672836            |"
      ]
     },
     "metadata": {},
     "output_type": "display_data"
    },
    {
     "data": {
      "text/html": [
       "<pre>+-----------+----------+-----------+--------------+-------------------+---------------------+</pre>"
      ],
      "text/plain": [
       "+-----------+----------+-----------+--------------+-------------------+---------------------+"
      ]
     },
     "metadata": {},
     "output_type": "display_data"
    },
    {
     "data": {
      "text/html": [
       "<pre>TERMINATED: Iteration limit reached.</pre>"
      ],
      "text/plain": [
       "TERMINATED: Iteration limit reached."
      ]
     },
     "metadata": {},
     "output_type": "display_data"
    },
    {
     "data": {
      "text/html": [
       "<pre>This model may not be optimal. To improve it, consider increasing `max_iterations`.</pre>"
      ],
      "text/plain": [
       "This model may not be optimal. To improve it, consider increasing `max_iterations`."
      ]
     },
     "metadata": {},
     "output_type": "display_data"
    },
    {
     "name": "stdout",
     "output_type": "stream",
     "text": [
      "{'f1_score': 0.6222868163147988, 'auc': 0.7163561741742771, 'recall': 0.6185931408241703, 'precision': 0.6260248673152441, 'log_loss': 0.745825485545319, 'roc_curve': Columns:\n",
      "\tthreshold\tfloat\n",
      "\tfpr\tfloat\n",
      "\ttpr\tfloat\n",
      "\tp\tint\n",
      "\tn\tint\n",
      "\n",
      "Rows: 100001\n",
      "\n",
      "Data:\n",
      "+-----------+----------------+----------------+--------+--------+\n",
      "| threshold |      fpr       |      tpr       |   p    |   n    |\n",
      "+-----------+----------------+----------------+--------+--------+\n",
      "|    0.0    |      1.0       |      1.0       | 216994 | 276518 |\n",
      "|   1e-05   | 0.999981917994 |      1.0       | 216994 | 276518 |\n",
      "|   2e-05   | 0.99996745239  | 0.999995391578 | 216994 | 276518 |\n",
      "|   3e-05   | 0.999949370385 | 0.999990783155 | 216994 | 276518 |\n",
      "|   4e-05   | 0.999931288379 | 0.999990783155 | 216994 | 276518 |\n",
      "|   5e-05   | 0.999920439176 | 0.999972349466 | 216994 | 276518 |\n",
      "|   6e-05   | 0.999920439176 | 0.999972349466 | 216994 | 276518 |\n",
      "|   7e-05   | 0.999913206374 | 0.999972349466 | 216994 | 276518 |\n",
      "|   8e-05   | 0.999905973571 | 0.999958524199 | 216994 | 276518 |\n",
      "|   9e-05   | 0.999891507967 | 0.999958524199 | 216994 | 276518 |\n",
      "+-----------+----------------+----------------+--------+--------+\n",
      "[100001 rows x 5 columns]\n",
      "Note: Only the head of the SFrame is printed.\n",
      "You can use print_rows(num_rows=m, num_columns=n) to print more rows and columns., 'confusion_matrix': Columns:\n",
      "\ttarget_label\tint\n",
      "\tpredicted_label\tint\n",
      "\tcount\tint\n",
      "\n",
      "Rows: 4\n",
      "\n",
      "Data:\n",
      "+--------------+-----------------+--------+\n",
      "| target_label | predicted_label | count  |\n",
      "+--------------+-----------------+--------+\n",
      "|      0       |        1        | 80187  |\n",
      "|      1       |        0        | 82763  |\n",
      "|      1       |        1        | 134231 |\n",
      "|      0       |        0        | 196331 |\n",
      "+--------------+-----------------+--------+\n",
      "[4 rows x 3 columns]\n",
      ", 'accuracy': 0.6698155262688648}\n"
     ]
    }
   ],
   "source": [
    "# fit basic classification model - LR\n",
    "model = gl.classifier.logistic_classifier.create(train, \n",
    "                                                 target=\"class\", \n",
    "                                                 features=[x for x in clean_edges.column_names() if 'class' not in x])\n",
    "results = model.evaluate(test)\n",
    "print results"
   ]
  },
  {
   "cell_type": "markdown",
   "metadata": {},
   "source": [
    "Мы получили базовую модель с метриками: точность ~ 0.67, ROC AUC ~ 0.71. Ваша задача улучшить модель,  за счет добавления новых признаков вершин, ребер и аккуратного обучения выбранных моделей (настройки гиперпараметров и регуляризации)."
   ]
  },
  {
   "cell_type": "markdown",
   "metadata": {},
   "source": [
    "----\n",
    "### 5. Отправка результатов в контест на Kaggle - 20 Баллов\n",
    "\n",
    "\n",
    "Завершая домашнюю работу, нам небходимо предсказать вероятности наличия ребер, для заданного списка ребер. Результат отправлется в контест на kaggle.com в формате: edge_id - probability"
   ]
  },
  {
   "cell_type": "code",
   "execution_count": 39,
   "metadata": {
    "collapsed": true
   },
   "outputs": [],
   "source": [
    "predicted = model.predict(susp_edges, output_type='probability')"
   ]
  },
  {
   "cell_type": "code",
   "execution_count": 40,
   "metadata": {
    "collapsed": false
   },
   "outputs": [],
   "source": [
    "susp_edges['probability'] = predicted"
   ]
  },
  {
   "cell_type": "code",
   "execution_count": 41,
   "metadata": {
    "collapsed": false
   },
   "outputs": [],
   "source": [
    "result = susp_edges['edge_id', 'probability']"
   ]
  },
  {
   "cell_type": "code",
   "execution_count": 42,
   "metadata": {
    "collapsed": false
   },
   "outputs": [],
   "source": [
    "result.save('result.csv', format='csv')"
   ]
  },
  {
   "cell_type": "code",
   "execution_count": null,
   "metadata": {
    "collapsed": true
   },
   "outputs": [],
   "source": []
  },
  {
   "cell_type": "code",
   "execution_count": null,
   "metadata": {
    "collapsed": false
   },
   "outputs": [],
   "source": []
  },
  {
   "cell_type": "code",
   "execution_count": null,
   "metadata": {
    "collapsed": true
   },
   "outputs": [],
   "source": []
  },
  {
   "cell_type": "markdown",
   "metadata": {},
   "source": [
    "----"
   ]
  },
  {
   "cell_type": "markdown",
   "metadata": {},
   "source": [
    "----\n",
    "### Не модифицируйте данный код, он для проверки вашего ноутбука"
   ]
  },
  {
   "cell_type": "code",
   "execution_count": 35,
   "metadata": {
    "collapsed": true
   },
   "outputs": [],
   "source": [
    "# from sklearn.metrics import roc_curve, auc\n",
    "# import matplotlib.pyplot as plt\n",
    "\n",
    "# %matplotlib inline"
   ]
  },
  {
   "cell_type": "code",
   "execution_count": 36,
   "metadata": {
    "collapsed": false
   },
   "outputs": [],
   "source": [
    "# labeled = pd.read_csv('labeled_suspicions.csv')\n",
    "# print labeled.shape\n",
    "\n",
    "# res = labeled.merge(result.to_dataframe(), on='edge_id', how='inner')\n",
    "# res = res[['class', 'probability']]\n",
    "# print res.shape"
   ]
  },
  {
   "cell_type": "code",
   "execution_count": 37,
   "metadata": {
    "collapsed": false
   },
   "outputs": [],
   "source": [
    "# fpr, tpr, _ = roc_curve(res['class'], res['probability'])\n",
    "# roc_auc = auc(fpr, tpr)\n",
    "\n",
    "# plt.figure(figsize=(15, 10))\n",
    "# lw = 2\n",
    "# plt.plot(fpr, tpr, color='darkorange', lw=lw, label='ROC curve (area = %0.2f)' % roc_auc)\n",
    "# plt.plot([0, 1], [0, 1], color='navy', lw=lw, linestyle='--')\n",
    "# plt.xlim([0.0, 1.0])\n",
    "# plt.ylim([0.0, 1.05])\n",
    "# plt.xlabel('False Positive Rate')\n",
    "# plt.ylabel('True Positive Rate')\n",
    "# plt.title('Receiver operating characteristic example')\n",
    "# plt.legend(loc=\"lower right\")\n",
    "# plt.show()"
   ]
  },
  {
   "cell_type": "code",
   "execution_count": null,
   "metadata": {
    "collapsed": true
   },
   "outputs": [],
   "source": []
  },
  {
   "cell_type": "code",
   "execution_count": null,
   "metadata": {
    "collapsed": true
   },
   "outputs": [],
   "source": []
  }
 ],
 "metadata": {
  "kernelspec": {
   "display_name": "Python 2",
   "language": "python",
   "name": "python2"
  },
  "language_info": {
   "codemirror_mode": {
    "name": "ipython",
    "version": 2
   },
   "file_extension": ".py",
   "mimetype": "text/x-python",
   "name": "python",
   "nbconvert_exporter": "python",
   "pygments_lexer": "ipython2",
   "version": "2.7.11"
  }
 },
 "nbformat": 4,
 "nbformat_minor": 0
}
